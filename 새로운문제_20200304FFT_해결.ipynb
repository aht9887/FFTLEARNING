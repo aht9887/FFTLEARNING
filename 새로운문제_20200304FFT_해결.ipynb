{
 "cells": [
  {
   "cell_type": "code",
   "execution_count": 20,
   "metadata": {},
   "outputs": [
    {
     "data": {
      "image/png": "[encoded data removed]",
      "text/plain": [
       "<Figure size 432x288 with 1 Axes>"
      ]
     },
     "metadata": {
      "needs_background": "light"
     },
     "output_type": "display_data"
    }
   ],
   "source": [
    "# 출처: https://www.youtube.com/watch?v=17cOaqrwXlo\n",
    "\n",
    "# START Python\n",
    "\n",
    "import scipy.io.wavfile as wavfile\n",
    "import scipy\n",
    "import scipy.fftpack as fftpk\n",
    "import numpy as np\n",
    "from matplotlib import pyplot as plt\n",
    "\n",
    "# load.wav sample data into array\n",
    "# we get the files sample rate and data\n",
    "s_rate, signal = wavfile.read(\"test_voice.wav\")\n",
    "\n",
    "#use scipy to do a fast fourrier transform\n",
    "\n",
    "FFT = abs(scipy.fft(signal))\n",
    "\n",
    "# define a frequency vector\n",
    "\n",
    "freqs = fftpk.fftfreq(len(FFT), (0.1/s_rate))\n",
    "\n",
    "# plot data\n",
    "plt.plot(freqs[range(len(FFT)//2)], FFT[range(len(FFT)//2)])\n",
    "plt.xlabel('Frequency (Hz)')\n",
    "plt.ylabel('Ampitude')\n",
    "# plt.show()\n",
    "\n",
    "# 파이썬 plt.show() 출력 결과 지정된 파일 저장\n",
    "# 출처: Python plt.show () output save specified file\n",
    "\n",
    "plt.savefig(\"C:/Users/RD_PC/Documents/20200305FFT/20200305.pdf\",bbox_inches=\"tight\",pad_inches=0.0001, transparent=True)\n",
    "# pad_inches는 커질수록 그림이 작아짐\n",
    "#      //    가 0.1이 될때까지 그림은 커지다가 0.0001이 되도 똑같음"
   ]
  },
  {
   "cell_type": "code",
   "execution_count": null,
   "metadata": {},
   "outputs": [],
   "source": []
  }
 ],
 "metadata": {
  "kernelspec": {
   "display_name": "Python 3",
   "language": "python",
   "name": "python3"
  },
  "language_info": {
   "codemirror_mode": {
    "name": "ipython",
    "version": 3
   },
   "file_extension": ".py",
   "mimetype": "text/x-python",
   "name": "python",
   "nbconvert_exporter": "python",
   "pygments_lexer": "ipython3",
   "version": "3.7.4"
  }
 },
 "nbformat": 4,
 "nbformat_minor": 2
}
