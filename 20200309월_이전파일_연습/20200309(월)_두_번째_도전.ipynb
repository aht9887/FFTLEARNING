{
 "cells": [
  {
   "cell_type": "code",
   "execution_count": 1,
   "metadata": {},
   "outputs": [
    {
     "ename": "SyntaxError",
     "evalue": "invalid syntax (<ipython-input-1-207b6d3123eb>, line 8)",
     "output_type": "error",
     "traceback": [
      "\u001b[1;36m  File \u001b[1;32m\"<ipython-input-1-207b6d3123eb>\"\u001b[1;36m, line \u001b[1;32m8\u001b[0m\n\u001b[1;33m    ... whatever your script does goes here\u001b[0m\n\u001b[1;37m               ^\u001b[0m\n\u001b[1;31mSyntaxError\u001b[0m\u001b[1;31m:\u001b[0m invalid syntax\n"
     ]
    }
   ],
   "source": [
    "import sys\n",
    "\n",
    "def myscript(iteration_number):\n",
    "    xfile_name = \"x%d.txt\" % iteration_number\n",
    "    yfile_name = \"y%d.txt\" % iteration_number\n",
    "    with open(xfile_name, \"w\") as xf:\n",
    "        with open(yfile_name, \"w\") as yf:\n",
    "            ... whatever your script does goes here\n",
    "\n",
    "def main(unused_command_line_args):\n",
    "    for i in xrange(1000):\n",
    "        myscript(i)\n",
    "    return 0\n",
    "\n",
    "if __name__ == '__main__':\n",
    "    sys.exit(main(sys.argv))"
   ]
  },
  {
   "cell_type": "code",
   "execution_count": 3,
   "metadata": {},
   "outputs": [
    {
     "name": "stdout",
     "output_type": "stream",
     "text": [
      "do you want to continue? YES\n"
     ]
    },
    {
     "ename": "SystemExit",
     "evalue": "1",
     "output_type": "error",
     "traceback": [
      "An exception has occurred, use %tb to see the full traceback.\n",
      "\u001b[1;31mSystemExit\u001b[0m\u001b[1;31m:\u001b[0m 1\n"
     ]
    }
   ],
   "source": [
    "# Random Sound FX Using WAV File\n",
    "# http://en.wikipedia.org/wiki/Amplitude_modulation\n",
    "# http://en.wikipedia.org/wiki/Frequency_modulation\n",
    "# FB36 - 20120701\n",
    "import math, wave, array, random\n",
    "duration = 5 # seconds\n",
    "volume = 100 # percent\n",
    "freqCR = random.randint(500, 3000) # frequency of the carrier wave (Hz) \n",
    "freqAM = random.randint(1, 10) # frequency of the AM wave (Hz) \n",
    "freqFM = random.randint(1, 10) # frequency of the FM wave (Hz) \n",
    "freqFMDev = random.randint(100, 400) # frequency deviation for FM (Hz) \n",
    "phaseCR = random.random() * math.pi * 2\n",
    "phaseAM = random.random() * math.pi * 2\n",
    "phaseFM = random.random() * math.pi * 2\n",
    "# Assumed: ampCR = ampAM = ampFM = 1\n",
    "data = array.array('h') # signed short integer (-32768 to 32767) data\n",
    "dataSize = 2 # 2 bytes because of using signed short integers => bit depth = 16\n",
    "numChan = 1 # of channels (1: mono, 2: stereo)\n",
    "sampleRate = 44100 # of samples per second (standard)\n",
    "numSamples = sampleRate * duration\n",
    "# nSPC: number of Samples Per Cycle\n",
    "nSPCCR = int(sampleRate / freqCR)\n",
    "nSPCAM = int(sampleRate / freqAM)\n",
    "nSPCFM = int(sampleRate / freqFM)\n",
    "for i in range(numSamples):\n",
    "    sample = 32767 * float(volume) / 100\n",
    "    tCR = math.pi * 2 * (i % nSPCCR) / nSPCCR + phaseCR\n",
    "    tFM = math.pi * 2 * (i % nSPCFM) / nSPCFM + phaseFM\n",
    "    tAM = math.pi * 2 * (i % nSPCAM) / nSPCAM + phaseAM\n",
    "    sample *= math.sin(tCR + math.sin(tFM) * freqFMDev / freqFM)\n",
    "    sample *= (math.sin(tAM) + 1) / 2\n",
    "    data.append(int(sample))\n",
    "f = wave.open('wav0.wav', 'w')\n",
    "f.setparams((numChan, dataSize, sampleRate, numSamples, \"NONE\", \"Uncompressed\"))\n",
    "f.writeframes(data.tostring())\n",
    "f.close()\n",
    "\n",
    "import sys\n",
    "\n",
    "def restart():\n",
    "    if input('do you want to continue? ') != 'yes':\n",
    "        sys.exit(1)\n",
    "\n",
    "restart()\n",
    "# 실행 완료\n",
    "# 세 개의 결과값이 같음hhjjkjfjjfgg\n",
    "# 런을 다시 해야지만 결과값이 다르게 나와요.\n",
    "# 33 ~ 50까지는 반복이 필요가 없음\n",
    "# 파일명을 다르게 해서 여러 번 실행해주는 코드를 만들어보자"
   ]
  },
  {
   "cell_type": "code",
   "execution_count": 1,
   "metadata": {},
   "outputs": [
    {
     "ename": "SyntaxError",
     "evalue": "invalid syntax (<ipython-input-1-207b6d3123eb>, line 8)",
     "output_type": "error",
     "traceback": [
      "\u001b[1;36m  File \u001b[1;32m\"<ipython-input-1-207b6d3123eb>\"\u001b[1;36m, line \u001b[1;32m8\u001b[0m\n\u001b[1;33m    ... whatever your script does goes here\u001b[0m\n\u001b[1;37m               ^\u001b[0m\n\u001b[1;31mSyntaxError\u001b[0m\u001b[1;31m:\u001b[0m invalid syntax\n"
     ]
    }
   ],
   "source": [
    "import sys\n",
    "\n",
    "def myscript(iteration_number):\n",
    "    xfile_name = \"x%d.txt\" % iteration_number\n",
    "    yfile_name = \"y%d.txt\" % iteration_number\n",
    "    with open(xfile_name, \"w\") as xf:\n",
    "        with open(yfile_name, \"w\") as yf:\n",
    "            ... whatever your script does goes here\n",
    "\n",
    "def main(unused_command_line_args):\n",
    "    for i in xrange(1000):\n",
    "        myscript(i)\n",
    "    return 0\n",
    "\n",
    "if __name__ == '__main__':\n",
    "    sys.exit(main(sys.argv))"
   ]
  },
  {
   "cell_type": "code",
   "execution_count": 2,
   "metadata": {},
   "outputs": [],
   "source": [
    "# Random Sound FX Using WAV File\n",
    "# http://en.wikipedia.org/wiki/Amplitude_modulation\n",
    "# http://en.wikipedia.org/wiki/Frequency_modulation\n",
    "# FB36 - 20120701\n",
    "import math, wave, array, random\n",
    "duration = 5 # seconds\n",
    "volume = 100 # percent\n",
    "freqCR = random.randint(500, 3000) # frequency of the carrier wave (Hz) \n",
    "freqAM = random.randint(1, 10) # frequency of the AM wave (Hz) \n",
    "freqFM = random.randint(1, 10) # frequency of the FM wave (Hz) \n",
    "freqFMDev = random.randint(100, 400) # frequency deviation for FM (Hz) \n",
    "phaseCR = random.random() * math.pi * 2\n",
    "phaseAM = random.random() * math.pi * 2\n",
    "phaseFM = random.random() * math.pi * 2\n",
    "# Assumed: ampCR = ampAM = ampFM = 1\n",
    "data = array.array('h') # signed short integer (-32768 to 32767) data\n",
    "dataSize = 2 # 2 bytes because of using signed short integers => bit depth = 16\n",
    "numChan = 1 # of channels (1: mono, 2: stereo)\n",
    "sampleRate = 44100 # of samples per second (standard)\n",
    "numSamples = sampleRate * duration\n",
    "# nSPC: number of Samples Per Cycle\n",
    "nSPCCR = int(sampleRate / freqCR)\n",
    "nSPCAM = int(sampleRate / freqAM)\n",
    "nSPCFM = int(sampleRate / freqFM)\n",
    "for i in range(numSamples):\n",
    "    sample = 32767 * float(volume) / 100\n",
    "    tCR = math.pi * 2 * (i % nSPCCR) / nSPCCR + phaseCR\n",
    "    tFM = math.pi * 2 * (i % nSPCFM) / nSPCFM + phaseFM\n",
    "    tAM = math.pi * 2 * (i % nSPCAM) / nSPCAM + phaseAM\n",
    "    sample *= math.sin(tCR + math.sin(tFM) * freqFMDev / freqFM)\n",
    "    sample *= (math.sin(tAM) + 1) / 2\n",
    "    data.append(int(sample))\n",
    "# wave.open(file, mode=None)\n",
    "# 모드에는 'rb', 'wb' 가 있고 각각 읽기 전용모드와 쓰기전용모드이다.\n",
    "f = wave.open('wav0.wav', 'w')\n",
    "f.setparams((numChan, dataSize, sampleRate, numSamples, \"NONE\", \"Uncompressed\"))\n",
    "f.writeframes(data.tostring())\n",
    "f.close()\n",
    "\n",
    "# 혹시 자체 기능이 구현되지 않은 것은 아닐까???\n",
    "\n"
   ]
  },
  {
   "cell_type": "code",
   "execution_count": 4,
   "metadata": {
    "scrolled": true
   },
   "outputs": [
    {
     "name": "stderr",
     "output_type": "stream",
     "text": [
      "C:\\ProgramData\\Anaconda3\\lib\\site-packages\\pydub\\utils.py:165: RuntimeWarning: Couldn't find ffmpeg or avconv - defaulting to ffmpeg, but may not work\n",
      "  warn(\"Couldn't find ffmpeg or avconv - defaulting to ffmpeg, but may not work\", RuntimeWarning)\n"
     ]
    },
    {
     "ename": "NameError",
     "evalue": "name 't1' is not defined",
     "output_type": "error",
     "traceback": [
      "\u001b[1;31m---------------------------------------------------------------------------\u001b[0m",
      "\u001b[1;31mNameError\u001b[0m                                 Traceback (most recent call last)",
      "\u001b[1;32m<ipython-input-4-df636d786752>\u001b[0m in \u001b[0;36m<module>\u001b[1;34m\u001b[0m\n\u001b[0;32m      1\u001b[0m \u001b[1;32mfrom\u001b[0m \u001b[0mpydub\u001b[0m \u001b[1;32mimport\u001b[0m \u001b[0mAudioSegment\u001b[0m\u001b[1;33m\u001b[0m\u001b[1;33m\u001b[0m\u001b[0m\n\u001b[1;32m----> 2\u001b[1;33m \u001b[0mt1\u001b[0m \u001b[1;33m=\u001b[0m \u001b[0mt1\u001b[0m \u001b[1;33m*\u001b[0m \u001b[1;36m1000\u001b[0m \u001b[1;31m#Works in milliseconds\u001b[0m\u001b[1;33m\u001b[0m\u001b[1;33m\u001b[0m\u001b[0m\n\u001b[0m\u001b[0;32m      3\u001b[0m \u001b[0mt2\u001b[0m \u001b[1;33m=\u001b[0m \u001b[0mt2\u001b[0m \u001b[1;33m*\u001b[0m \u001b[1;36m1000\u001b[0m\u001b[1;33m\u001b[0m\u001b[1;33m\u001b[0m\u001b[0m\n\u001b[0;32m      4\u001b[0m \u001b[0mnewAudio\u001b[0m \u001b[1;33m=\u001b[0m \u001b[0mAudioSegment\u001b[0m\u001b[1;33m.\u001b[0m\u001b[0mfrom_wav\u001b[0m\u001b[1;33m(\u001b[0m\u001b[1;34m\"oldSong.wav\"\u001b[0m\u001b[1;33m)\u001b[0m\u001b[1;33m\u001b[0m\u001b[1;33m\u001b[0m\u001b[0m\n\u001b[0;32m      5\u001b[0m \u001b[0mnewAudio\u001b[0m \u001b[1;33m=\u001b[0m \u001b[0mnewAudio\u001b[0m\u001b[1;33m[\u001b[0m\u001b[0mt1\u001b[0m\u001b[1;33m:\u001b[0m\u001b[0mt2\u001b[0m\u001b[1;33m]\u001b[0m\u001b[1;33m\u001b[0m\u001b[1;33m\u001b[0m\u001b[0m\n",
      "\u001b[1;31mNameError\u001b[0m: name 't1' is not defined"
     ]
    }
   ],
   "source": [
    "from pydub import AudioSegment\n",
    "t1 = t1 * 1000 #Works in milliseconds # 여러 개 파일로 저장\n",
    "t2 = t2 * 1000\n",
    "newAudio = AudioSegment.from_wav(\"oldSong.wav\")\n",
    "# 여러 파이 생성\n",
    "newAudio = newAudio[t1:t2]\n",
    "newAudio.export('newSong.wav', format=\"wav\") #Exports to a wav file in the current path."
   ]
  },
  {
   "cell_type": "code",
   "execution_count": null,
   "metadata": {},
   "outputs": [],
   "source": [
    "# 리스트 이름ㅇㅅ======"
   ]
  }
 ],
 "metadata": {
  "kernelspec": {
   "display_name": "Python 3",
   "language": "python",
   "name": "python3"
  },
  "language_info": {
   "codemirror_mode": {
    "name": "ipython",
    "version": 3
   },
   "file_extension": ".py",
   "mimetype": "text/x-python",
   "name": "python",
   "nbconvert_exporter": "python",
   "pygments_lexer": "ipython3",
   "version": "3.7.4"
  }
 },
 "nbformat": 4,
 "nbformat_minor": 2
}
