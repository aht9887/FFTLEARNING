{
 "cells": [
  {
   "cell_type": "code",
   "execution_count": 7,
   "metadata": {},
   "outputs": [],
   "source": [
    "#!/usr/bin/python3\n",
    "\n",
    "\n",
    "import tkinter # note that module name has changed from Tkinter in Python 2 to tkinter in python 3\n",
    " \n",
    "\n",
    "top = tkinter.Tk()\n",
    "# Code to add widgets will go here...\n",
    "top.mainloop()\n",
    "\n"
   ]
  },
  {
   "cell_type": "code",
   "execution_count": 8,
   "metadata": {},
   "outputs": [],
   "source": [
    "from tkinter import *\n",
    "\n",
    "root = Tk()\n",
    "\n",
    "label = Label(root, text=\"Hello world\")\n",
    "label.pack()\n",
    "\n",
    "root.mainloop()\n"
   ]
  },
  {
   "cell_type": "code",
   "execution_count": null,
   "metadata": {},
   "outputs": [],
   "source": [
    "# youtube\n",
    "import tkinter\n",
    "\n",
    "from matplotlib.backends.backend_tkagg import (FigureCanvasTkAgg,NavigationToolbar2Tk)\n",
    "from matplotlib.backend_bases import key_press_handler\n",
    "from matplotlib.figure import Figure\n",
    "\n",
    "import numpy as np\n",
    "\n",
    "root=tkinter.Tk()\n",
    "root.wm_title(\"Embedding in tkinker\")\n",
    "\n",
    "fig=Figure(figsize=(10,8), dpi = 100)\n",
    "\n",
    "t = np.arange(0, 3, .01)\n",
    "fig.add_subplot(111).plot(t, 2 * np.log2^(2 * np.pi * t))\n",
    "\n",
    "canvas = FigureCanvasTkAgg(fig, master=root) # A tk.DrawingArea.\n",
    "canvas.draw()\n",
    "canvas.get_tk_widget().pack(side=tkinter.TOP, fill=tkinter.BOTH, expand=1)\n",
    "\n",
    "toolbar = NavigationToolbar2Tk(canvas, root)\n",
    "toolbar.update()\n",
    "canvas.get_tk_widget().pack(side=tkinter.TOP, fill=tkinter.BOTH, expand = 1)\n",
    "\n",
    "def on_key(event):\n",
    "    print(\"You pressed {}\".format(event.key))\n",
    "    key_press_handler(event, canvas, toolbar)\n",
    "    \n",
    "canvas.mpl_connect(\"key_press_evnet\",on_key)\n",
    "\n",
    "def quit():\n",
    "    root.quit()\n",
    "    root.destroy()\n",
    "\n",
    "button = tkinter.Button(master=root,text=\"Quit\",command=quit)\n",
    "button.pack(side=tkinter.BOTTOM)\n",
    "\n",
    "tkinter.mainloop()"
   ]
  },
  {
   "cell_type": "code",
   "execution_count": null,
   "metadata": {},
   "outputs": [],
   "source": []
  },
  {
   "cell_type": "code",
   "execution_count": null,
   "metadata": {},
   "outputs": [],
   "source": []
  },
  {
   "cell_type": "code",
   "execution_count": null,
   "metadata": {},
   "outputs": [],
   "source": []
  }
 ],
 "metadata": {
  "kernelspec": {
   "display_name": "Python 3",
   "language": "python",
   "name": "python3"
  },
  "language_info": {
   "codemirror_mode": {
    "name": "ipython",
    "version": 3
   },
   "file_extension": ".py",
   "mimetype": "text/x-python",
   "name": "python",
   "nbconvert_exporter": "python",
   "pygments_lexer": "ipython3",
   "version": "3.7.4"
  }
 },
 "nbformat": 4,
 "nbformat_minor": 2
}
