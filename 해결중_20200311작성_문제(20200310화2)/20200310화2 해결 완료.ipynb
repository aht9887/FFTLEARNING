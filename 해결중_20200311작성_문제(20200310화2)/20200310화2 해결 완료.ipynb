{
 "cells": [
  {
   "cell_type": "code",
   "execution_count": 10,
   "metadata": {},
   "outputs": [],
   "source": [
    "\n",
    "\"\"\"\n",
    "랜덤텍스트 파일 생성 원본\n",
    "출처: 아래 markdown 참조해라\n",
    "\"\"\"\n",
    "\n",
    "import random\n",
    "import string\n",
    "\n",
    "n = 1024 ** 2  # 1 Mb of text\n",
    "chars = ''.join([random.choice(string.ascii_letters) for i in range(n)])\n",
    "\n",
    "with open('textfile.txt', 'w+') as f:\n",
    "    f.write(chars)\n"
   ]
  },
  {
   "cell_type": "code",
   "execution_count": 9,
   "metadata": {},
   "outputs": [
    {
     "ename": "IndentationError",
     "evalue": "unexpected indent (<ipython-input-9-5bc88bcb29bc>, line 2)",
     "output_type": "error",
     "traceback": [
      "\u001b[1;36m  File \u001b[1;32m\"<ipython-input-9-5bc88bcb29bc>\"\u001b[1;36m, line \u001b[1;32m2\u001b[0m\n\u001b[1;33m    for i in range(t)\u001b[0m\n\u001b[1;37m    ^\u001b[0m\n\u001b[1;31mIndentationError\u001b[0m\u001b[1;31m:\u001b[0m unexpected indent\n"
     ]
    }
   ],
   "source": [
    "How recommand the modify your text book. in the text you "
   ]
  },
  {
   "cell_type": "markdown",
   "metadata": {},
   "source": [
    "랜덤 코드 예시"
   ]
  },
  {
   "cell_type": "code",
   "execution_count": null,
   "metadata": {},
   "outputs": [],
   "source": [
    "'''\n",
    "출처: https://www.pythonforbeginners.com/random/how-to-use-the-random-module-in-python\n",
    "랜덤 임포트 예시\n",
    "'''\n",
    "\n",
    "# 랜덤 임포트 of list"
   ]
  },
  {
   "cell_type": "code",
   "execution_count": 40,
   "metadata": {},
   "outputs": [],
   "source": [
    "def data():\n",
    "    test_list = ['one', 'two', 'three']\n",
    "    for i in test_list:\n",
    "        print(i)\n",
    "with open('data{}and{}.txt'.format('knights', 'Ni'), 'w') as f:\n",
    "    data = 'some data to be written to the file'\n",
    "    f.write(data)\n",
    "    \n",
    "# str = striing version "
   ]
  },
  {
   "cell_type": "code",
   "execution_count": 43,
   "metadata": {},
   "outputs": [
    {
     "name": "stdout",
     "output_type": "stream",
     "text": [
      "('the answer', 42)\n"
     ]
    }
   ],
   "source": [
    "#출처: https://docs.python.org/2/tutorial/inputoutput.html\n",
    "\n",
    "value = ('the answer', 42)\n",
    "s = str(value)\n",
    "# f.write(s)\n",
    "print(s)\n",
    "\n",
    "#"
   ]
  },
  {
   "cell_type": "markdown",
   "metadata": {},
   "source": [
    "# https://www.tutorialspoint.com/python3/python_files_io.htm\n",
    "에 따르면 덮어쓰지(overwrite) 않는 기능은 없다. 모두 덮어쓴다고 되어있다. 즉, 파일 생성을 다시 하더라도 계속해서 덮어쓰는 loop가 진행되기 때문에 랜덤으로 파일을 여러 개 생성하는 작업은 불가능하다.\n",
    "\n",
    "끝."
   ]
  },
  {
   "cell_type": "markdown",
   "metadata": {},
   "source": [
    "문제3: 랜덤으로 내용이 기재되는 파일 여러 개 만들기 : 20200310화2 해결 완료(문제 자체에 대한 고찰로 해결)"
   ]
  },
  {
   "cell_type": "code",
   "execution_count": null,
   "metadata": {},
   "outputs": [],
   "source": []
  }
 ],
 "metadata": {
  "kernelspec": {
   "display_name": "Python 3",
   "language": "python",
   "name": "python3"
  },
  "language_info": {
   "codemirror_mode": {
    "name": "ipython",
    "version": 3
   },
   "file_extension": ".py",
   "mimetype": "text/x-python",
   "name": "python",
   "nbconvert_exporter": "python",
   "pygments_lexer": "ipython3",
   "version": "3.7.4"
  }
 },
 "nbformat": 4,
 "nbformat_minor": 2
}
