{
 "cells": [
  {
   "cell_type": "markdown",
   "metadata": {},
   "source": [
    "Question: 1. 엑셀파일에서 문자열을 데이터 변수화 시킨다. \\\n",
    "          2. 어떠한 문제에서 문자열로 나열된 값이 입력된다. \\\n",
    "          3. 문제에 대한 변수를 만들어서 그에 대한 정보를 다룰 수 있게 한다. \\\n",
    "          \n",
    "         1. TO variabalize the string in spread sheets \\\n",
    "         2. In any problem, listed variables were inputted \\\n",
    "         3. Handling whit the information that created variables of given questions"
   ]
  },
  {
   "cell_type": "markdown",
   "metadata": {},
   "source": [
    "# To variabalize\n",
    "# reading an ecel file  using openpyxl module\n",
    "# A original text website : https://www.geeksforgeeks.org/python-reading-excel-file-using-openpyxl-module/"
   ]
  },
  {
   "cell_type": "markdown",
   "metadata": {},
   "source": [
    "# step1"
   ]
  },
  {
   "cell_type": "markdown",
   "metadata": {},
   "source": [
    "run A cmd window : sudo pip3 install openpyxl \\\n",
    "access denied  \\\n",
    "run instead of running pip3 install openpyxl(L) is runned \\\n",
    "\n",
    "Complete"
   ]
  },
  {
   "cell_type": "markdown",
   "metadata": {},
   "source": [
    "set an input files : An exel file name is readingexcel (not blancked and not containning)"
   ]
  },
  {
   "cell_type": "code",
   "execution_count": 6,
   "metadata": {
    "scrolled": false
   },
   "outputs": [
    {
     "ename": "SyntaxError",
     "evalue": "positional argument follows keyword argument (<ipython-input-6-861099d849c2>, line 12)",
     "output_type": "error",
     "traceback": [
      "\u001b[1;36m  File \u001b[1;32m\"<ipython-input-6-861099d849c2>\"\u001b[1;36m, line \u001b[1;32m12\u001b[0m\n\u001b[1;33m    wb = openpyxl.load_workbook(filename = r'C:\\Users\\RD_PC\\FFT\\FFTLEARNING\\20200312_Dr_Kang_instructions\\read.xlsx' , 'UTF-8')\u001b[0m\n\u001b[1;37m                                                                                                                      ^\u001b[0m\n\u001b[1;31mSyntaxError\u001b[0m\u001b[1;31m:\u001b[0m positional argument follows keyword argument\n"
     ]
    }
   ],
   "source": [
    "# Python program to read an excel file\n",
    "# im[prt p[emuxl module\n",
    "from openpyxl import load_workbook\n",
    "import openpyxl\n",
    "\n",
    "# Give the location of the file\n",
    "path = 'C:/Users/RD_PC/FFT/FFTLEARNING/20200312_Dr_Kang_instructions/readingexcel.xlsx'\n",
    "\n",
    "# To open the workbook\n",
    "# workbook object is created\n",
    "#wb_obj = openpyxl.load_workbook(path)\n",
    "wb = openpyxl.load_workbook(filename = r'C:\\Users\\RD_PC\\FFT\\FFTLEARNING\\20200312_Dr_Kang_instructions\\read.xlsx' , 'UTF-8')\n",
    "# 출처: https://stackoverflow.com/questions/44827896/openpyxl-throwing-error-on-load-workbook\n",
    "\n",
    "  \n",
    "# Get workbook active sheet object \n",
    "# from the active attribute \n",
    "sheet_obj = wb_obj.active \n",
    "  \n",
    "# Cell objects also have row, column,  \n",
    "# and coordinate attributes that provide \n",
    "# location information for the cell. \n",
    "  \n",
    "# Note: The first row or  \n",
    "# column integer is 1, not 0. \n",
    "  \n",
    "# Cell object is created by using  \n",
    "# sheet object's cell() method. \n",
    "cell_obj = sheet_obj.cell(row = 1, column = 1) \n",
    "  \n",
    "# Print value of cell object  \n",
    "# using the value attribute \n",
    "print(cell_obj.value) \n"
   ]
  },
  {
   "cell_type": "markdown",
   "metadata": {},
   "source": [
    "SyntaxError: positional argument follows keyword argument 발생함. 다시시도해보자"
   ]
  },
  {
   "cell_type": "code",
   "execution_count": null,
   "metadata": {},
   "outputs": [],
   "source": [
    "# Python program to read an excel file\n",
    "# im[prt p[emuxl module\n",
    "from openpyxl import load_workbook\n",
    "import openpyxl\n",
    "\n",
    "# Give the location of the file\n",
    "path = 'C:/Users/RD_PC/FFT/FFTLEARNING/20200312_Dr_Kang_instructions/readingexcel.xlsx'\n",
    "\n",
    "# To open the workbook\n",
    "# workbook object is created\n",
    "#wb_obj = openpyxl.load_workbook(path)\n",
    "wb = openpyxl.load_workbook(filename = r'C:\\Users\\RD_PC\\FFT\\FFTLEARNING\\20200312_Dr_Kang_instructions\\read.xlsx' , 'UTF-8')\n",
    "# 출처: https://stackoverflow.com/questions/44827896/openpyxl-throwing-error-on-load-workbook\n",
    "\n",
    "  \n",
    "# Get workbook active sheet object \n",
    "# from the active attribute \n",
    "sheet_obj = wb_obj.active \n",
    "  \n",
    "# Cell objects also have row, column,  \n",
    "# and coordinate attributes that provide \n",
    "# location information for the cell. \n",
    "  \n",
    "# Note: The first row or  \n",
    "# column integer is 1, not 0. \n",
    "  \n",
    "# Cell object is created by using  \n",
    "# sheet object's cell() method. \n",
    "cell_obj = sheet_obj.cell(row = 1, column = 1) \n",
    "  \n",
    "# Print value of cell object  \n",
    "# using the value attribute \n",
    "print(cell_obj.value) \n"
   ]
  },
  {
   "cell_type": "code",
   "execution_count": null,
   "metadata": {},
   "outputs": [],
   "source": [
    "# https://devdoggo.netlify.com/post/python/python_function/\n",
    "\n",
    "def student(name, age, gender):\n",
    "  return {'name': name, 'age': age, 'gender': gender}\n",
    "\n",
    "student(age=30, name='hanyeong.lee', gender='male')"
   ]
  },
  {
   "cell_type": "code",
   "execution_count": 17,
   "metadata": {
    "scrolled": false
   },
   "outputs": [
    {
     "ename": "SyntaxError",
     "evalue": "positional argument follows keyword argument (<ipython-input-17-01ceb1ed4225>, line 12)",
     "output_type": "error",
     "traceback": [
      "\u001b[1;36m  File \u001b[1;32m\"<ipython-input-17-01ceb1ed4225>\"\u001b[1;36m, line \u001b[1;32m12\u001b[0m\n\u001b[1;33m    wb = openpyxl.load_workbook(filename = r'UTF-8', r'dfffffft.xlsx', path = r'C:\\Users\\RD_PC\\FFT\\FFTLEARNING\\20200312originalDrKanIinstructions', r'UTF-8')\u001b[0m\n\u001b[1;37m                                                    ^\u001b[0m\n\u001b[1;31mSyntaxError\u001b[0m\u001b[1;31m:\u001b[0m positional argument follows keyword argument\n"
     ]
    }
   ],
   "source": [
    "# Python program to read an excel file\n",
    "# im[prt p[emuxl module\n",
    "from openpyxl import load_workbook\n",
    "import openpyxl\n",
    "import datetime\n",
    "from openpyxl import Workbook\n",
    "\n",
    "# Give the location of the file\n",
    "path = r'C:\\Users\\RD_PC\\FFT\\FFTLEARNING\\20200312originalDrKanIinstructions'\n",
    "# workbook object is created\n",
    "#wb_obj = openpyxl.load_workbook(path)\n",
    "wb = openpyxl.load_workbook(filename = r'UTF-8', r'dfffffft.xlsx', path = r'C:\\Users\\RD_PC\\FFT\\FFTLEARNING\\20200312originalDrKanIinstructions', r'UTF-8')\n",
    "# 출처: https://stackoverflow.com/questions/44827896/openpyxl-throwing-error-on-load-workbook\n",
    "# cnfc\n",
    "\n",
    "  \n",
    "# Get workbook active sheet object \n",
    "# from the active attribute \n",
    "sheet_obj = wb_obj.active \n",
    "  \n",
    "# Cell objects also have row, column,  \n",
    "# and coordinate attributes that provide \n",
    "# location information for the cell. \n",
    "  \n",
    "# Note: The first row or  \n",
    "# column integer is 1, not 0. \n",
    "  \n",
    "# Cell object is created by using  \n",
    "# sheet object's cell() method. \n",
    "cell_obj = sheet_obj.cell(row = 1, column = 1) \n",
    "  \n",
    "# Print value of cell object  \n",
    "# using the value attribute \n",
    "print(cell_obj.value) \n"
   ]
  },
  {
   "cell_type": "markdown",
   "metadata": {},
   "source": [
    "# 아래 코드는 색다른 시도"
   ]
  },
  {
   "cell_type": "code",
   "execution_count": 41,
   "metadata": {},
   "outputs": [],
   "source": [
    "from openpyxl import Workbook\n",
    "wb = Workbook"
   ]
  },
  {
   "cell_type": "code",
   "execution_count": 42,
   "metadata": {},
   "outputs": [],
   "source": [
    "ws = wb."
   ]
  },
  {
   "cell_type": "code",
   "execution_count": null,
   "metadata": {},
   "outputs": [],
   "source": [
    "SyntaxError: positional argument follows keyword argument"
   ]
  },
  {
   "cell_type": "code",
   "execution_count": 66,
   "metadata": {},
   "outputs": [
    {
     "ename": "ImportError",
     "evalue": "cannot import name 'path' from 'pathlib' (C:\\ProgramData\\Anaconda3\\lib\\pathlib.py)",
     "output_type": "error",
     "traceback": [
      "\u001b[1;31m---------------------------------------------------------------------------\u001b[0m",
      "\u001b[1;31mImportError\u001b[0m                               Traceback (most recent call last)",
      "\u001b[1;32m<ipython-input-66-6e5badef392e>\u001b[0m in \u001b[0;36m<module>\u001b[1;34m\u001b[0m\n\u001b[0;32m      3\u001b[0m \u001b[1;31m# import openpyxl module\u001b[0m\u001b[1;33m\u001b[0m\u001b[1;33m\u001b[0m\u001b[1;33m\u001b[0m\u001b[0m\n\u001b[0;32m      4\u001b[0m \u001b[1;32mimport\u001b[0m \u001b[0mopenpyxl\u001b[0m\u001b[1;33m\u001b[0m\u001b[1;33m\u001b[0m\u001b[0m\n\u001b[1;32m----> 5\u001b[1;33m \u001b[1;32mfrom\u001b[0m \u001b[0mpathlib\u001b[0m \u001b[1;32mimport\u001b[0m \u001b[0mpath\u001b[0m\u001b[1;33m\u001b[0m\u001b[1;33m\u001b[0m\u001b[0m\n\u001b[0m\u001b[0;32m      6\u001b[0m \u001b[1;33m\u001b[0m\u001b[0m\n\u001b[0;32m      7\u001b[0m \u001b[1;31m# Give the location of the file\u001b[0m\u001b[1;33m\u001b[0m\u001b[1;33m\u001b[0m\u001b[1;33m\u001b[0m\u001b[0m\n",
      "\u001b[1;31mImportError\u001b[0m: cannot import name 'path' from 'pathlib' (C:\\ProgramData\\Anaconda3\\lib\\pathlib.py)"
     ]
    }
   ],
   "source": [
    "# Python program to read an excel file \n",
    "  \n",
    "# import openpyxl module \n",
    "import openpyxl \n",
    "# excepts: from pathlib import path\n",
    "  \n",
    "# Give the location of the file \n",
    "path = r\"C:\\Users\\RD_PC\\FFT\\FFTLEARNING\\read.xlsx\"\n",
    "  \n",
    "# To open the workbook  \n",
    "# workbook object is created \n",
    "wb_obj = openpyxl.load_workbook(path) \n",
    "  \n",
    "# Get workbook active sheet object \n",
    "# from the active attribute \n",
    "sheet_obj = wb_obj.active \n",
    "  \n",
    "# Cell objects also have row, column,  \n",
    "# and coordinate attributes that provide \n",
    "# location information for the cell. \n",
    "  \n",
    "# Note: The first row or  \n",
    "# column integer is 1, not 0. \n",
    "  \n",
    "# Cell object is created by using  \n",
    "# sheet object's cell() method. \n",
    "cell_obj = sheet_obj.cell(row = 1, column = 1) \n",
    "  \n",
    "# Print value of cell object  \n",
    "# using the value attribute \n",
    "print(cell_obj.value) \n"
   ]
  },
  {
   "cell_type": "code",
   "execution_count": 18,
   "metadata": {},
   "outputs": [
    {
     "ename": "SyntaxError",
     "evalue": "(unicode error) 'unicodeescape' codec can't decode bytes in position 2-3: truncated \\UXXXXXXXX escape (<ipython-input-18-ef20f7ceb700>, line 7)",
     "output_type": "error",
     "traceback": [
      "\u001b[1;36m  File \u001b[1;32m\"<ipython-input-18-ef20f7ceb700>\"\u001b[1;36m, line \u001b[1;32m7\u001b[0m\n\u001b[1;33m    path = \"C:\\Users\\RD_PC\\FFT\\FFTLEARNING\\20200312originalDrKanIinstructions\\dfffffft.xlsx\"\u001b[0m\n\u001b[1;37m          ^\u001b[0m\n\u001b[1;31mSyntaxError\u001b[0m\u001b[1;31m:\u001b[0m (unicode error) 'unicodeescape' codec can't decode bytes in position 2-3: truncated \\UXXXXXXXX escape\n"
     ]
    }
   ],
   "source": [
    "# Python program to read an excel file \n",
    "  \n",
    "# import openpyxl module \n",
    "import openpyxl \n",
    "  \n",
    "# Give the location of the file \n",
    "path = \"C:\\Users\\RD_PC\\FFT\\FFTLEARNING\\20200312originalDrKanIinstructions\\dfffffft.xlsx\"\n",
    "  \n",
    "# To open the workbook  \n",
    "# workbook object is created \n",
    "wb_obj = openpyxl.load_workbook(path) \n",
    "  \n",
    "# Get workbook active sheet object \n",
    "# from the active attribute \n",
    "sheet_obj = wb_obj.active \n",
    "  \n",
    "# Cell objects also have row, column,  \n",
    "# and coordinate attributes that provide \n",
    "# location information for the cell. \n",
    "  \n",
    "# Note: The first row or  \n",
    "# column integer is 1, not 0. \n",
    "  \n",
    "# Cell object is created by using  \n",
    "# sheet object's cell() method. \n",
    "cell_obj = sheet_obj.cell(row = 1, column = 1) \n",
    "  \n",
    "# Print value of cell object  \n",
    "# using the value attribute \n",
    "print(cell_obj.value) "
   ]
  },
  {
   "cell_type": "code",
   "execution_count": 43,
   "metadata": {},
   "outputs": [
    {
     "ename": "InvalidFileException",
     "evalue": "openpyxl does not support .xlsx  encoding  file format, please check you can open it with Excel first. Supported formats are: .xlsx,.xlsm,.xltx,.xltm",
     "output_type": "error",
     "traceback": [
      "\u001b[1;31m---------------------------------------------------------------------------\u001b[0m",
      "\u001b[1;31mInvalidFileException\u001b[0m                      Traceback (most recent call last)",
      "\u001b[1;32m<ipython-input-43-931d683b271b>\u001b[0m in \u001b[0;36m<module>\u001b[1;34m\u001b[0m\n\u001b[0;32m      8\u001b[0m \u001b[1;31m# To open the workbook\u001b[0m\u001b[1;33m\u001b[0m\u001b[1;33m\u001b[0m\u001b[1;33m\u001b[0m\u001b[0m\n\u001b[0;32m      9\u001b[0m \u001b[1;31m# workbook object is created\u001b[0m\u001b[1;33m\u001b[0m\u001b[1;33m\u001b[0m\u001b[1;33m\u001b[0m\u001b[0m\n\u001b[1;32m---> 10\u001b[1;33m \u001b[0mwb_obj\u001b[0m \u001b[1;33m=\u001b[0m \u001b[0mopenpyxl\u001b[0m\u001b[1;33m.\u001b[0m\u001b[0mload_workbook\u001b[0m\u001b[1;33m(\u001b[0m\u001b[1;34mr'C:\\Users\\RD_PC\\FFT\\FFTLEARNING\\20200312originalDrKanIinstructions\\dfffffft.xlsx  encoding '\u001b[0m\u001b[1;33m,\u001b[0m \u001b[1;34m'utf-8'\u001b[0m\u001b[1;33m)\u001b[0m\u001b[1;33m,\u001b[0m\u001b[1;33m\u001b[0m\u001b[1;33m\u001b[0m\u001b[0m\n\u001b[0m\u001b[0;32m     11\u001b[0m \u001b[1;33m\u001b[0m\u001b[0m\n\u001b[0;32m     12\u001b[0m \u001b[1;31m# Get workbook active sheet object\u001b[0m\u001b[1;33m\u001b[0m\u001b[1;33m\u001b[0m\u001b[1;33m\u001b[0m\u001b[0m\n",
      "\u001b[1;32mC:\\ProgramData\\Anaconda3\\lib\\site-packages\\openpyxl\\reader\\excel.py\u001b[0m in \u001b[0;36mload_workbook\u001b[1;34m(filename, read_only, keep_vba, data_only, keep_links)\u001b[0m\n\u001b[0;32m    314\u001b[0m     \u001b[0mreader\u001b[0m\u001b[1;33m.\u001b[0m\u001b[0mread\u001b[0m\u001b[1;33m(\u001b[0m\u001b[1;33m)\u001b[0m\u001b[1;33m\u001b[0m\u001b[1;33m\u001b[0m\u001b[0m\n\u001b[0;32m    315\u001b[0m     \u001b[1;32mreturn\u001b[0m \u001b[0mreader\u001b[0m\u001b[1;33m.\u001b[0m\u001b[0mwb\u001b[0m\u001b[1;33m\u001b[0m\u001b[1;33m\u001b[0m\u001b[0m\n",
      "\u001b[1;32mC:\\ProgramData\\Anaconda3\\lib\\site-packages\\openpyxl\\reader\\excel.py\u001b[0m in \u001b[0;36m__init__\u001b[1;34m(self, fn, read_only, keep_vba, data_only, keep_links)\u001b[0m\n\u001b[0;32m    122\u001b[0m     def __init__(self,  fn, read_only=False, keep_vba=KEEP_VBA,\n\u001b[0;32m    123\u001b[0m                   data_only=False, keep_links=True):\n\u001b[1;32m--> 124\u001b[1;33m         \u001b[0mself\u001b[0m\u001b[1;33m.\u001b[0m\u001b[0marchive\u001b[0m \u001b[1;33m=\u001b[0m \u001b[0m_validate_archive\u001b[0m\u001b[1;33m(\u001b[0m\u001b[0mfn\u001b[0m\u001b[1;33m)\u001b[0m\u001b[1;33m\u001b[0m\u001b[1;33m\u001b[0m\u001b[0m\n\u001b[0m\u001b[0;32m    125\u001b[0m         \u001b[0mself\u001b[0m\u001b[1;33m.\u001b[0m\u001b[0mvalid_files\u001b[0m \u001b[1;33m=\u001b[0m \u001b[0mself\u001b[0m\u001b[1;33m.\u001b[0m\u001b[0marchive\u001b[0m\u001b[1;33m.\u001b[0m\u001b[0mnamelist\u001b[0m\u001b[1;33m(\u001b[0m\u001b[1;33m)\u001b[0m\u001b[1;33m\u001b[0m\u001b[1;33m\u001b[0m\u001b[0m\n\u001b[0;32m    126\u001b[0m         \u001b[0mself\u001b[0m\u001b[1;33m.\u001b[0m\u001b[0mread_only\u001b[0m \u001b[1;33m=\u001b[0m \u001b[0mread_only\u001b[0m\u001b[1;33m\u001b[0m\u001b[1;33m\u001b[0m\u001b[0m\n",
      "\u001b[1;32mC:\\ProgramData\\Anaconda3\\lib\\site-packages\\openpyxl\\reader\\excel.py\u001b[0m in \u001b[0;36m_validate_archive\u001b[1;34m(filename)\u001b[0m\n\u001b[0;32m     92\u001b[0m                        \u001b[1;34m'Supported formats are: %s'\u001b[0m\u001b[1;33m)\u001b[0m \u001b[1;33m%\u001b[0m \u001b[1;33m(\u001b[0m\u001b[0mfile_format\u001b[0m\u001b[1;33m,\u001b[0m\u001b[1;33m\u001b[0m\u001b[1;33m\u001b[0m\u001b[0m\n\u001b[0;32m     93\u001b[0m                                                        ','.join(SUPPORTED_FORMATS))\n\u001b[1;32m---> 94\u001b[1;33m             \u001b[1;32mraise\u001b[0m \u001b[0mInvalidFileException\u001b[0m\u001b[1;33m(\u001b[0m\u001b[0mmsg\u001b[0m\u001b[1;33m)\u001b[0m\u001b[1;33m\u001b[0m\u001b[1;33m\u001b[0m\u001b[0m\n\u001b[0m\u001b[0;32m     95\u001b[0m \u001b[1;33m\u001b[0m\u001b[0m\n\u001b[0;32m     96\u001b[0m     \u001b[0marchive\u001b[0m \u001b[1;33m=\u001b[0m \u001b[0mZipFile\u001b[0m\u001b[1;33m(\u001b[0m\u001b[0mfilename\u001b[0m\u001b[1;33m,\u001b[0m \u001b[1;34m'r'\u001b[0m\u001b[1;33m)\u001b[0m\u001b[1;33m\u001b[0m\u001b[1;33m\u001b[0m\u001b[0m\n",
      "\u001b[1;31mInvalidFileException\u001b[0m: openpyxl does not support .xlsx  encoding  file format, please check you can open it with Excel first. Supported formats are: .xlsx,.xlsm,.xltx,.xltm"
     ]
    }
   ],
   "source": [
    "# Python program to read an excel file \n",
    "  \n",
    "# import openpyxl module \n",
    "import openpyxl \n",
    "\n",
    "# Give the location of the file \n",
    "  \n",
    "# To open the workbook  \n",
    "# workbook object is created \n",
    "wb_obj = openpyxl.load_workbook(r'C:\\Users\\RD_PC\\FFT\\FFTLEARNING\\20200312originalDrKanIinstructions\\dfffffft.xlsx  encoding ', 'utf-8'),\n",
    "  \n",
    "# Get workbook active sheet object \n",
    "# from the active attribute \n",
    "sheet_obj = wb_obj.active \n",
    "  \n",
    "# Cell objects also have row, column,  \n",
    "# and coordinate attributes that provide \n",
    "# location information for the cell. \n",
    "  \n",
    "# Note: The first row or  \n",
    "# column integer is 1, not 0. \n",
    "  \n",
    "# Cell object is created by using  \n",
    "# sheet object's cell() method. \n",
    "cell_obj = sheet_obj.cell(row = 1, column = 1) \n",
    "  \n",
    "# Print value of cell object  \n",
    "# using the value attribute \n",
    "print(cell_obj.value) "
   ]
  },
  {
   "cell_type": "markdown",
   "metadata": {},
   "source": [
    "해결완료 -> 메모장에서 xlsx 파일을 만들어서 그런 것 같음. 집에서 다시 해보면 100% 될 것임. 문법 해석을 하도록 하자"
   ]
  },
  {
   "cell_type": "code",
   "execution_count": null,
   "metadata": {},
   "outputs": [],
   "source": []
  },
  {
   "cell_type": "code",
   "execution_count": null,
   "metadata": {},
   "outputs": [],
   "source": []
  },
  {
   "cell_type": "code",
   "execution_count": null,
   "metadata": {},
   "outputs": [],
   "source": []
  }
 ],
 "metadata": {
  "kernelspec": {
   "display_name": "Python 3",
   "language": "python",
   "name": "python3"
  },
  "language_info": {
   "codemirror_mode": {
    "name": "ipython",
    "version": 3
   },
   "file_extension": ".py",
   "mimetype": "text/x-python",
   "name": "python",
   "nbconvert_exporter": "python",
   "pygments_lexer": "ipython3",
   "version": "3.7.4"
  }
 },
 "nbformat": 4,
 "nbformat_minor": 2
}
