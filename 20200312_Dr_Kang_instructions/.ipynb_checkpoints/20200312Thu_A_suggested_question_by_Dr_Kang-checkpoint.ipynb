{
 "cells": [
  {
   "cell_type": "markdown",
   "metadata": {},
   "source": [
    "Question: 1. 엑셀파일에서 문자열을 데이터 변수화 시킨다. \\\n",
    "          2. 어떠한 문제에서 문자열로 나열된 값이 입력된다. \\\n",
    "          3. 문제에 대한 변수를 만들어서 그에 대한 정보를 다룰 수 있게 한다. \\\n",
    "          \n",
    "         1. TO variabalize the string in spread sheets \\\n",
    "         2. In any problem, listed variables were inputted \\\n",
    "         3. Handling whit the information that created variables of given questions"
   ]
  },
  {
   "cell_type": "markdown",
   "metadata": {},
   "source": [
    "# To variabalize\n",
    "# reading an ecel file  using openpyxl module\n",
    "# A original text website : https://www.geeksforgeeks.org/python-reading-excel-file-using-openpyxl-module/"
   ]
  },
  {
   "cell_type": "markdown",
   "metadata": {},
   "source": [
    "# step1"
   ]
  },
  {
   "cell_type": "markdown",
   "metadata": {},
   "source": [
    "run A cmd window : sudo pip3 install openpyxl \\\n",
    "access denied  \\\n",
    "run instead of running pip3 install openpyxl(L) is runned \\\n",
    "\n",
    "Complete"
   ]
  },
  {
   "cell_type": "markdown",
   "metadata": {},
   "source": [
    "set an input files : An exel file name is readingexcel (not blancked and not containning)"
   ]
  },
  {
   "cell_type": "code",
   "execution_count": 61,
   "metadata": {
    "scrolled": true
   },
   "outputs": [
    {
     "ename": "SyntaxError",
     "evalue": "positional argument follows keyword argument (<ipython-input-61-6a2287e9d1a0>, line 12)",
     "output_type": "error",
     "traceback": [
      "\u001b[1;36m  File \u001b[1;32m\"<ipython-input-61-6a2287e9d1a0>\"\u001b[1;36m, line \u001b[1;32m12\u001b[0m\n\u001b[1;33m    wb = openpyxl.load_workbook(filename= r'C:\\Users\\RD_PC\\FFT\\FFTLEARNING\\20200312_Dr_Kang_instructions\\read.xlsx' , 'UTF-8')\u001b[0m\n\u001b[1;37m                                                                                                                     ^\u001b[0m\n\u001b[1;31mSyntaxError\u001b[0m\u001b[1;31m:\u001b[0m positional argument follows keyword argument\n"
     ]
    }
   ],
   "source": [
    "# Python program to read an excel file\n",
    "# im[prt p[emuxl module\n",
    "from openpyxl import load_workbook\n",
    "import openpyxl\n",
    "\n",
    "# Give the location of the file\n",
    "path = 'C:/Users/RD_PC/FFT/FFTLEARNING/20200312_Dr_Kang_instructions/readingexcel.xlsx'\n",
    "\n",
    "# To open the workbook\n",
    "# workbook object is created\n",
    "#wb_obj = openpyxl.load_workbook(path)\n",
    "wb = openpyxl.load_workbook(filename= r'C:\\Users\\RD_PC\\FFT\\FFTLEARNING\\20200312_Dr_Kang_instructions\\read.xlsx' , 'UTF-8')\n",
    "# 출처: https://stackoverflow.com/questions/44827896/openpyxl-throwing-error-on-load-workbook\n",
    "\n",
    "  \n",
    "# Get workbook active sheet object \n",
    "# from the active attribute \n",
    "sheet_obj = wb_obj.active \n",
    "  \n",
    "# Cell objects also have row, column,  \n",
    "# and coordinate attributes that provide \n",
    "# location information for the cell. \n",
    "  \n",
    "# Note: The first row or  \n",
    "# column integer is 1, not 0. \n",
    "  \n",
    "# Cell object is created by using  \n",
    "# sheet object's cell() method. \n",
    "cell_obj = sheet_obj.cell(row = 1, column = 1) \n",
    "  \n",
    "# Print value of cell object  \n",
    "# using the value attribute \n",
    "print(cell_obj.value) \n"
   ]
  },
  {
   "cell_type": "code",
   "execution_count": 41,
   "metadata": {},
   "outputs": [],
   "source": [
    "from openpyxl import Workbook\n",
    "wb = Workbook"
   ]
  },
  {
   "cell_type": "code",
   "execution_count": 42,
   "metadata": {},
   "outputs": [],
   "source": [
    "ws = wb."
   ]
  },
  {
   "cell_type": "code",
   "execution_count": null,
   "metadata": {},
   "outputs": [],
   "source": [
    "SyntaxError: positional argument follows keyword argument"
   ]
  },
  {
   "cell_type": "code",
   "execution_count": 66,
   "metadata": {},
   "outputs": [
    {
     "ename": "ImportError",
     "evalue": "cannot import name 'path' from 'pathlib' (C:\\ProgramData\\Anaconda3\\lib\\pathlib.py)",
     "output_type": "error",
     "traceback": [
      "\u001b[1;31m---------------------------------------------------------------------------\u001b[0m",
      "\u001b[1;31mImportError\u001b[0m                               Traceback (most recent call last)",
      "\u001b[1;32m<ipython-input-66-6e5badef392e>\u001b[0m in \u001b[0;36m<module>\u001b[1;34m\u001b[0m\n\u001b[0;32m      3\u001b[0m \u001b[1;31m# import openpyxl module\u001b[0m\u001b[1;33m\u001b[0m\u001b[1;33m\u001b[0m\u001b[1;33m\u001b[0m\u001b[0m\n\u001b[0;32m      4\u001b[0m \u001b[1;32mimport\u001b[0m \u001b[0mopenpyxl\u001b[0m\u001b[1;33m\u001b[0m\u001b[1;33m\u001b[0m\u001b[0m\n\u001b[1;32m----> 5\u001b[1;33m \u001b[1;32mfrom\u001b[0m \u001b[0mpathlib\u001b[0m \u001b[1;32mimport\u001b[0m \u001b[0mpath\u001b[0m\u001b[1;33m\u001b[0m\u001b[1;33m\u001b[0m\u001b[0m\n\u001b[0m\u001b[0;32m      6\u001b[0m \u001b[1;33m\u001b[0m\u001b[0m\n\u001b[0;32m      7\u001b[0m \u001b[1;31m# Give the location of the file\u001b[0m\u001b[1;33m\u001b[0m\u001b[1;33m\u001b[0m\u001b[1;33m\u001b[0m\u001b[0m\n",
      "\u001b[1;31mImportError\u001b[0m: cannot import name 'path' from 'pathlib' (C:\\ProgramData\\Anaconda3\\lib\\pathlib.py)"
     ]
    }
   ],
   "source": [
    "# Python program to read an excel file \n",
    "  \n",
    "# import openpyxl module \n",
    "import openpyxl \n",
    "# excepts: from pathlib import path\n",
    "  \n",
    "# Give the location of the file \n",
    "path = r\"C:\\Users\\RD_PC\\FFT\\FFTLEARNING\\read.xlsx\"\n",
    "  \n",
    "# To open the workbook  \n",
    "# workbook object is created \n",
    "wb_obj = openpyxl.load_workbook(path) \n",
    "  \n",
    "# Get workbook active sheet object \n",
    "# from the active attribute \n",
    "sheet_obj = wb_obj.active \n",
    "  \n",
    "# Cell objects also have row, column,  \n",
    "# and coordinate attributes that provide \n",
    "# location information for the cell. \n",
    "  \n",
    "# Note: The first row or  \n",
    "# column integer is 1, not 0. \n",
    "  \n",
    "# Cell object is created by using  \n",
    "# sheet object's cell() method. \n",
    "cell_obj = sheet_obj.cell(row = 1, column = 1) \n",
    "  \n",
    "# Print value of cell object  \n",
    "# using the value attribute \n",
    "print(cell_obj.value) \n"
   ]
  },
  {
   "cell_type": "code",
   "execution_count": null,
   "metadata": {},
   "outputs": [],
   "source": []
  }
 ],
 "metadata": {
  "kernelspec": {
   "display_name": "Python 3",
   "language": "python",
   "name": "python3"
  },
  "language_info": {
   "codemirror_mode": {
    "name": "ipython",
    "version": 3
   },
   "file_extension": ".py",
   "mimetype": "text/x-python",
   "name": "python",
   "nbconvert_exporter": "python",
   "pygments_lexer": "ipython3",
   "version": "3.7.4"
  }
 },
 "nbformat": 4,
 "nbformat_minor": 2
}
