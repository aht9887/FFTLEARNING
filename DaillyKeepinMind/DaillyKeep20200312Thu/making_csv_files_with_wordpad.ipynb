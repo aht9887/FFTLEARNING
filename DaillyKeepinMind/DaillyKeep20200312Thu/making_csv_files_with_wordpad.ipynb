{
 "cells": [
  {
   "cell_type": "markdown",
   "metadata": {},
   "source": [
    "*** how to make extention of csv files"
   ]
  },
  {
   "cell_type": "markdown",
   "metadata": {},
   "source": [
    "///How to create a csv file."
   ]
  },
  {
   "cell_type": "markdown",
   "metadata": {},
   "source": [
    "*** \\\n",
    "step 1: open a text(wordpad) program \\\n",
    "step 2: writing text. But you must use comma between word or sentencees \\\n",
    "step 3: press ctrl + s buttons. Rename ooo.csv and set up all files. \\\n",
    "step 4: Activate the file that you make. Confirm your files that comma distinguished context. \\\n",
    "step 5: Done \\\n",
    "***"
   ]
  },
  {
   "cell_type": "markdown",
   "metadata": {},
   "source": []
  }
 ],
 "metadata": {
  "kernelspec": {
   "display_name": "Python 3",
   "language": "python",
   "name": "python3"
  },
  "language_info": {
   "codemirror_mode": {
    "name": "ipython",
    "version": 3
   },
   "file_extension": ".py",
   "mimetype": "text/x-python",
   "name": "python",
   "nbconvert_exporter": "python",
   "pygments_lexer": "ipython3",
   "version": "3.7.4"
  }
 },
 "nbformat": 4,
 "nbformat_minor": 2
}
