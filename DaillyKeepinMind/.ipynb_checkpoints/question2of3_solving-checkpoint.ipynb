{
 "cells": [
  {
   "cell_type": "markdown",
   "metadata": {},
   "source": [
    "# Question2"
   ]
  },
  {
   "cell_type": "markdown",
   "metadata": {},
   "source": [
    "작성하시오. 프로그램. ~의 것. 계산하다. 계승. 주어진 숫자. 결과. 해야한다. 이다. 출력되다. 에. 콤마-구분된. 연속적인 사건들(문자열me). 위. 싱글라인. 예상이 되다/ 따라오는 결과/이다 제고외어지다. 로/ 프로그램"
   ]
  },
  {
   "cell_type": "markdown",
   "metadata": {},
   "source": [
    "팩토리얼을 계산하고 결과는 출력이 되어야 한데. 콤마로 분리된 연속적인결과. 가정해라. 따라오는 인풋은 제공된다. 40320이 되는 팩토리얼 넘버를 보여주자."
   ]
  },
  {
   "cell_type": "code",
   "execution_count": 6,
   "metadata": {},
   "outputs": [
    {
     "ename": "SyntaxError",
     "evalue": "invalid syntax (<ipython-input-6-6685eaddcf1e>, line 4)",
     "output_type": "error",
     "traceback": [
      "\u001b[1;36m  File \u001b[1;32m\"<ipython-input-6-6685eaddcf1e>\"\u001b[1;36m, line \u001b[1;32m4\u001b[0m\n\u001b[1;33m    from sympy import symbols. solve\u001b[0m\n\u001b[1;37m                             ^\u001b[0m\n\u001b[1;31mSyntaxError\u001b[0m\u001b[1;31m:\u001b[0m invalid syntax\n"
     ]
    }
   ],
   "source": [
    "# 프로그램 8에서 값이 주어진다고 하는데 프로그램 8에 입력된 숫자가 안 보임\n",
    "# 연속된 값을 곱해서 40320이 되게 한다.\n",
    "\n",
    "from sympy import symbols. solve\n",
    "\n",
    "x = symbols.x\n",
    "faceq = (x)=(x-1)(x-2)\n",
    "\n",
    "sol = solve(expr)\n",
    "\n",
    "sol"
   ]
  },
  {
   "cell_type": "code",
   "execution_count": null,
   "metadata": {},
   "outputs": [],
   "source": []
  },
  {
   "cell_type": "code",
   "execution_count": null,
   "metadata": {},
   "outputs": [],
   "source": []
  },
  {
   "cell_type": "code",
   "execution_count": null,
   "metadata": {},
   "outputs": [],
   "source": []
  },
  {
   "cell_type": "code",
   "execution_count": null,
   "metadata": {},
   "outputs": [],
   "source": []
  },
  {
   "cell_type": "code",
   "execution_count": null,
   "metadata": {},
   "outputs": [],
   "source": []
  },
  {
   "cell_type": "code",
   "execution_count": null,
   "metadata": {},
   "outputs": [],
   "source": [
    "."
   ]
  }
 ],
 "metadata": {
  "kernelspec": {
   "display_name": "Python 3",
   "language": "python",
   "name": "python3"
  },
  "language_info": {
   "codemirror_mode": {
    "name": "ipython",
    "version": 3
   },
   "file_extension": ".py",
   "mimetype": "text/x-python",
   "name": "python",
   "nbconvert_exporter": "python",
   "pygments_lexer": "ipython3",
   "version": "3.7.4"
  }
 },
 "nbformat": 4,
 "nbformat_minor": 4
}
