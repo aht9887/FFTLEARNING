{
 "cells": [
  {
   "cell_type": "markdown",
   "metadata": {},
   "source": [
    "# Question 1\n",
    "\n",
    "original text: https://github.com/darkprinx/100-plus-Python-programming-exercises-extended/blob/master/Status/Day%201.md"
   ]
  },
  {
   "cell_type": "markdown",
   "metadata": {},
   "source": [
    "Write a program which will find all such numbers which are divisible by 7 but are not \n",
    "multiple of 5, between 2000 and 3200(both included). The numbers obtained should be printed\n",
    "in a comma-separated sequence on a single line"
   ]
  },
  {
   "cell_type": "markdown",
   "metadata": {},
   "source": [
    "쓰다 프로그램 ~의 찾을 것 ~와 같은 숫자 ~의 것 나눌 수 있는 로 7로 하지 않다 5로 나눌 수 있는 숫자. 하지만 동시에 가능한 ~를 5로 나눌 수 있는 ~사이에 2000과 3200 양쪽 포함한다. 숫자들은 포함되다 ~해야 한다. 표현되어지다. ~로 콤마로 구분되는 결과 ~로 한 줄로. THE nubvers obtaind should be printed in a comma-separated sequence on a single lind"
   ]
  },
  {
   "cell_type": "markdown",
   "metadata": {},
   "source": [
    "입력과 출력을 생각해 보자. 입력은 2000과 3200사이의 모든 숫자, 즉, 범위이다. 출력은 7로 약분가능하지만 35로 약분이 가능하지 않은 수들의 콤마로 구분된 리스트. 아래 힌트를 봐버렸음. range()를 쓰라고 함."
   ]
  },
  {
   "cell_type": "code",
   "execution_count": 2,
   "metadata": {},
   "outputs": [
    {
     "name": "stdout",
     "output_type": "stream",
     "text": [
      "<class 'list'>\n"
     ]
    }
   ],
   "source": [
    "list(range(10, 20))\n",
    "print(list)"
   ]
  },
  {
   "cell_type": "code",
   "execution_count": 3,
   "metadata": {},
   "outputs": [
    {
     "data": {
      "text/plain": [
       "[10, 11, 12, 13, 14, 15, 16, 17, 18, 19]"
      ]
     },
     "execution_count": 3,
     "metadata": {},
     "output_type": "execute_result"
    }
   ],
   "source": [
    "list(range(10, 20))"
   ]
  },
  {
   "cell_type": "code",
   "execution_count": 8,
   "metadata": {},
   "outputs": [
    {
     "name": "stdout",
     "output_type": "stream",
     "text": [
      "Current Letter : P\n",
      "Current Letter : y\n",
      "Current Letter : t\n",
      "Current Letter : h\n",
      "Current Letter : o\n",
      "Current Letter : n\n",
      "\n",
      "Current fruit : banana\n",
      "Current fruit : apple\n",
      "Current fruit : mango\n"
     ]
    }
   ],
   "source": [
    "#!/user/bin/python3\n",
    "for letter in 'Python':      # TRAVERSAL OF A STRING SEQUENCE\n",
    "    print ('Current Letter :', letter)\n",
    "print()\n",
    "\n",
    "# numver2\n",
    "fruits = ['banana', 'apple', 'mango']\n",
    "for fruit in fruits:     # traversal of List sequence\n",
    "    print ('Current fruit :', fruit)"
   ]
  },
  {
   "cell_type": "code",
   "execution_count": 11,
   "metadata": {},
   "outputs": [
    {
     "ename": "NameError",
     "evalue": "name 'statements' is not defined",
     "output_type": "error",
     "traceback": [
      "\u001b[1;31m---------------------------------------------------------------------------\u001b[0m",
      "\u001b[1;31mNameError\u001b[0m                                 Traceback (most recent call last)",
      "\u001b[1;32m<ipython-input-11-94fc066799c9>\u001b[0m in \u001b[0;36m<module>\u001b[1;34m\u001b[0m\n\u001b[0;32m      3\u001b[0m \u001b[1;32mfor\u001b[0m \u001b[0miterating_var\u001b[0m \u001b[1;32min\u001b[0m \u001b[0msequence\u001b[0m\u001b[1;33m:\u001b[0m\u001b[1;33m\u001b[0m\u001b[1;33m\u001b[0m\u001b[0m\n\u001b[0;32m      4\u001b[0m     \u001b[1;32mfor\u001b[0m \u001b[0miterating_var\u001b[0m \u001b[1;32min\u001b[0m \u001b[0msequence\u001b[0m\u001b[1;33m:\u001b[0m\u001b[1;33m\u001b[0m\u001b[1;33m\u001b[0m\u001b[0m\n\u001b[1;32m----> 5\u001b[1;33m         \u001b[0mstatements\u001b[0m\u001b[1;33m(\u001b[0m\u001b[0ms\u001b[0m\u001b[1;33m)\u001b[0m\u001b[1;33m\u001b[0m\u001b[1;33m\u001b[0m\u001b[0m\n\u001b[0m\u001b[0;32m      6\u001b[0m     \u001b[0mstatements\u001b[0m\u001b[1;33m(\u001b[0m\u001b[0ms\u001b[0m\u001b[1;33m)\u001b[0m\u001b[1;33m\u001b[0m\u001b[1;33m\u001b[0m\u001b[0m\n\u001b[0;32m      7\u001b[0m \u001b[1;33m\u001b[0m\u001b[0m\n",
      "\u001b[1;31mNameError\u001b[0m: name 'statements' is not defined"
     ]
    }
   ],
   "source": [
    "sequence = range(1, 5)\n",
    "statements(s) = i \n",
    "iterating_var = i\n",
    "for iterating_var in sequence:\n",
    "    for iterating_var in sequence:\n",
    "        statements(s)\n",
    "    statements(s)\n",
    "    \n",
    "## 응용\n",
    "\n"
   ]
  },
  {
   "cell_type": "code",
   "execution_count": 29,
   "metadata": {},
   "outputs": [
    {
     "name": "stdout",
     "output_type": "stream",
     "text": [
      "1, 2, 3, 4, 5, 6, 7, 8, 9, 10, \n",
      "2, 4, 6, 8, 10, 12, 14, 16, 18, 20, \n",
      "3, 6, 9, 12, 15, 18, 21, 24, 27, 30, \n",
      "4, 8, 12, 16, 20, 24, 28, 32, 36, 40, \n",
      "5, 10, 15, 20, 25, 30, 35, 40, 45, 50, \n",
      "6, 12, 18, 24, 30, 36, 42, 48, 54, 60, \n",
      "7, 14, 21, 28, 35, 42, 49, 56, 63, 70, \n",
      "8, 16, 24, 32, 40, 48, 56, 64, 72, 80, \n",
      "9, 18, 27, 36, 45, 54, 63, 72, 81, 90, \n",
      "10, 20, 30, 40, 50, 60, 70, 80, 90, 100, \n"
     ]
    }
   ],
   "source": [
    "for i in range(1, 11):\n",
    "    for j in range(1, 11):\n",
    "        k=i*j\n",
    "        print (k, end=', ')\n",
    "    print()"
   ]
  },
  {
   "cell_type": "code",
   "execution_count": 2,
   "metadata": {},
   "outputs": [
    {
     "name": "stdout",
     "output_type": "stream",
     "text": [
      "0 1 1 2 3 5 "
     ]
    },
    {
     "ename": "SystemExit",
     "evalue": "",
     "output_type": "error",
     "traceback": [
      "An exception has occurred, use %tb to see the full traceback.\n",
      "\u001b[1;31mSystemExit\u001b[0m\n"
     ]
    }
   ],
   "source": [
    "\n",
    "import sys \n",
    "def fibonacci(n): #generator function \n",
    "    a, b, counter = 0, 1, 0 \n",
    "    while True: \n",
    "        if (counter > n):  \n",
    "            return \n",
    "        yield a \n",
    "        a, b = b, a + b \n",
    "        counter += 1 \n",
    "f = fibonacci(5) #f is iterator object \n",
    " \n",
    "while True: \n",
    "   try: \n",
    "      print (next(f), end=\" \") \n",
    "   except StopIteration: \n",
    "      sys.exit() \n",
    " \n",
    "\n"
   ]
  },
  {
   "cell_type": "code",
   "execution_count": 35,
   "metadata": {},
   "outputs": [
    {
     "ename": "TypeError",
     "evalue": "list indices must be integers or slices, not range",
     "output_type": "error",
     "traceback": [
      "\u001b[1;31m---------------------------------------------------------------------------\u001b[0m",
      "\u001b[1;31mTypeError\u001b[0m                                 Traceback (most recent call last)",
      "\u001b[1;32m<ipython-input-35-a0be528f650f>\u001b[0m in \u001b[0;36m<module>\u001b[1;34m\u001b[0m\n\u001b[1;32m----> 1\u001b[1;33m \u001b[0mc\u001b[0m \u001b[1;33m=\u001b[0m \u001b[0mlist\u001b[0m\u001b[1;33m[\u001b[0m\u001b[0mrange\u001b[0m\u001b[1;33m(\u001b[0m\u001b[1;33m-\u001b[0m\u001b[1;36m1\u001b[0m\u001b[1;33m,\u001b[0m \u001b[1;36m10\u001b[0m\u001b[1;33m,\u001b[0m \u001b[1;36m1\u001b[0m\u001b[1;33m)\u001b[0m\u001b[1;33m]\u001b[0m\u001b[1;33m\u001b[0m\u001b[1;33m\u001b[0m\u001b[0m\n\u001b[0m\u001b[0;32m      2\u001b[0m \u001b[0mprint\u001b[0m\u001b[1;33m(\u001b[0m\u001b[0mc\u001b[0m\u001b[1;33m)\u001b[0m\u001b[1;33m\u001b[0m\u001b[1;33m\u001b[0m\u001b[0m\n",
      "\u001b[1;31mTypeError\u001b[0m: list indices must be integers or slices, not range"
     ]
    }
   ],
   "source": [
    "c = list[range(-1, 10, 1)]\n",
    "print(c)"
   ]
  },
  {
   "cell_type": "code",
   "execution_count": 36,
   "metadata": {},
   "outputs": [
    {
     "ename": "SyntaxError",
     "evalue": "invalid syntax (<ipython-input-36-740d794d0d95>, line 1)",
     "output_type": "error",
     "traceback": [
      "\u001b[1;36m  File \u001b[1;32m\"<ipython-input-36-740d794d0d95>\"\u001b[1;36m, line \u001b[1;32m1\u001b[0m\n\u001b[1;33m    print(리스ㄴ트에 단어 추가)\u001b[0m\n\u001b[1;37m                 ^\u001b[0m\n\u001b[1;31mSyntaxError\u001b[0m\u001b[1;31m:\u001b[0m invalid syntax\n"
     ]
    }
   ],
   "source": [
    "print(리스ㄴ트에 단어 추가) "
   ]
  },
  {
   "cell_type": "code",
   "execution_count": 55,
   "metadata": {},
   "outputs": [
    {
     "ename": "SyntaxError",
     "evalue": "invalid syntax (<ipython-input-55-719af5c58370>, line 7)",
     "output_type": "error",
     "traceback": [
      "\u001b[1;36m  File \u001b[1;32m\"<ipython-input-55-719af5c58370>\"\u001b[1;36m, line \u001b[1;32m7\u001b[0m\n\u001b[1;33m    while k = 0 ;\u001b[0m\n\u001b[1;37m            ^\u001b[0m\n\u001b[1;31mSyntaxError\u001b[0m\u001b[1;31m:\u001b[0m invalid syntax\n"
     ]
    }
   ],
   "source": [
    "m = 7\n",
    "n = 7\n",
    "k = m % n\n",
    "print (m % n)\n",
    "\n",
    "for i in range(2000, 3200):\n",
    "    while k = 0 ;\n",
    "        return k\n"
   ]
  },
  {
   "cell_type": "code",
   "execution_count": 82,
   "metadata": {},
   "outputs": [
    {
     "ename": "IndentationError",
     "evalue": "expected an indented block (<ipython-input-82-6d1ab75932bd>, line 7)",
     "output_type": "error",
     "traceback": [
      "\u001b[1;36m  File \u001b[1;32m\"<ipython-input-82-6d1ab75932bd>\"\u001b[1;36m, line \u001b[1;32m7\u001b[0m\n\u001b[1;33m    return == num\u001b[0m\n\u001b[1;37m         ^\u001b[0m\n\u001b[1;31mIndentationError\u001b[0m\u001b[1;31m:\u001b[0m expected an indented block\n"
     ]
    }
   ],
   "source": [
    "#!/usr/bin/python3\n",
    "for num in range(2000, 3200):\n",
    "    if num%7 == 0: \n",
    "    return num \n",
    "        \n",
    "else:\n",
    "   print ('the list doesnot contain even number')"
   ]
  },
  {
   "cell_type": "code",
   "execution_count": 91,
   "metadata": {},
   "outputs": [
    {
     "name": "stdout",
     "output_type": "stream",
     "text": [
      "285\n"
     ]
    }
   ],
   "source": [
    "def cal():  \n",
    "    for i in range(2000, 3200):\n",
    "        x = i//7  \n",
    "        return (x);    \n",
    " \n",
    "# Driver code to test above method  \n",
    "cal()   \n",
    "print(cal())  "
   ]
  },
  {
   "cell_type": "markdown",
   "metadata": {},
   "source": [
    "# 정답"
   ]
  },
  {
   "cell_type": "code",
   "execution_count": 93,
   "metadata": {},
   "outputs": [
    {
     "name": "stdout",
     "output_type": "stream",
     "text": [
      "2030,2065,2100,2135,2170,2205,2240,2275,2310,2345,2380,2415,2450,2485,2520,2555,2590,2625,2660,2695,2730,2765,2800,2835,2870,2905,2940,2975,3010,3045,3080,3115,3150,3185\n"
     ]
    }
   ],
   "source": [
    "nl=[]\n",
    "for x in range(2000, 3200):\n",
    "    if (x%7==0) and (x%5==0):\n",
    "        nl.append(str(x))\n",
    "                ##str(x) = 글자의 Unicode로 이루어진 불변한 집합을 문자열의 집합을 의미\n",
    "print (','.join(nl))"
   ]
  },
  {
   "cell_type": "code",
   "execution_count": null,
   "metadata": {},
   "outputs": [],
   "source": []
  },
  {
   "cell_type": "code",
   "execution_count": null,
   "metadata": {},
   "outputs": [],
   "source": []
  },
  {
   "cell_type": "code",
   "execution_count": null,
   "metadata": {},
   "outputs": [],
   "source": []
  },
  {
   "cell_type": "code",
   "execution_count": null,
   "metadata": {},
   "outputs": [],
   "source": []
  }
 ],
 "metadata": {
  "kernelspec": {
   "display_name": "Python 3",
   "language": "python",
   "name": "python3"
  },
  "language_info": {
   "codemirror_mode": {
    "name": "ipython",
    "version": 3
   },
   "file_extension": ".py",
   "mimetype": "text/x-python",
   "name": "python",
   "nbconvert_exporter": "python",
   "pygments_lexer": "ipython3",
   "version": "3.7.4"
  }
 },
 "nbformat": 4,
 "nbformat_minor": 4
}
