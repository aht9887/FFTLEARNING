{
 "cells": [
  {
   "cell_type": "code",
   "execution_count": 55,
   "metadata": {},
   "outputs": [
    {
     "name": "stdout",
     "output_type": "stream",
     "text": [
      "['A', 'n', 'd', 'y', 'W', 'i', 'l', 'l', 'i', 'a', 'm', 's']\n"
     ]
    }
   ],
   "source": [
    "import random\n",
    "\n",
    "first_names=('John','Andy','Joe')\n",
    "last_names=('Johnson','Smith','Williams')\n",
    "\n",
    "group=\" \".join(random.choice(first_names)+random.choice(last_names) for _ in range(1))\n",
    "\n",
    "\n",
    "print(list(group))\n"
   ]
  },
  {
   "cell_type": "code",
   "execution_count": 102,
   "metadata": {},
   "outputs": [
    {
     "name": "stdout",
     "output_type": "stream",
     "text": [
      "===== Thu Mar  5 16:36:29 2020 =====\n",
      "Thread running -  1\n",
      "Thread running -  2\n",
      "Thread running -  3\n",
      "Thread running -  4\n",
      "Thread running -  5\n",
      "[3, 5, 8, 1, 4]\n",
      "===== Thu Mar  5 16:36:29 2020 =====\n",
      "Thread running -  1\n",
      "Thread running -  2\n",
      "Thread running -  3\n",
      "Thread running -  4\n",
      "Thread running -  5\n",
      "===== Thu Mar  5 16:36:30 2020 =====\n",
      "Thread running -  1\n",
      "Thread running -  2\n",
      "Thread running -  3\n",
      "Thread running -  4\n",
      "Thread running -  5\n",
      "===== Thu Mar  5 16:36:30 2020 =====\n",
      "Thread running -  1\n",
      "Thread running -  2\n",
      "Thread running -  3\n",
      "Thread running -  4\n",
      "Thread running -  5\n",
      "===== Thu Mar  5 16:36:30 2020 =====\n",
      "Thread running -  1\n",
      "Thread running -  2\n",
      "Thread running -  3\n",
      "Thread running -  4\n",
      "Thread running -  5\n",
      "===== Thu Mar  5 16:36:30 2020 =====\n",
      "Thread running -  1\n",
      "Thread running -  2\n",
      "Thread running -  3\n",
      "Thread running -  4\n",
      "Thread running -  5\n",
      "===== Thu Mar  5 16:36:31 2020 =====\n",
      "Thread running -  1\n",
      "Thread running -  2\n",
      "Thread running -  3\n",
      "Thread running -  4\n",
      "Thread running -  5\n",
      "===== Thu Mar  5 16:36:31 2020 =====\n",
      "Thread running -  1\n",
      "Thread running -  2\n",
      "Thread running -  3\n",
      "Thread running -  4\n",
      "Thread running -  5\n"
     ]
    }
   ],
   "source": [
    "sek=[]\n",
    "L=[1,2,3,4,5,6,7,8,9,0]\n",
    "for i in [2, 4, 7, 0, 3]:\n",
    "   a=[L[i]]\n",
    "   sek=sek+a\n",
    "print (sek)"
   ]
  },
  {
   "cell_type": "code",
   "execution_count": 87,
   "metadata": {},
   "outputs": [
    {
     "name": "stdout",
     "output_type": "stream",
     "text": [
      "e\n"
     ]
    }
   ],
   "source": [
    "import random\n",
    "\n",
    "first_names=('abcd','efg','huj')\n",
    "last_names=('klmn','opqr','stuvwxyz')\n",
    "\n",
    "group=\" \".join(random.choice(first_names)+random.choice(last_names) for _ in range(1))\n",
    "\n",
    "names = list(group)\n",
    "\n",
    "\n",
    "# 리스트에서 1개 랜덤 추출\n",
    "choiceList = random.choice(names)\n",
    "    \n",
    "print(choiceList)"
   ]
  },
  {
   "cell_type": "code",
   "execution_count": 99,
   "metadata": {},
   "outputs": [
    {
     "name": "stdout",
     "output_type": "stream",
     "text": [
      "===== Thu Mar  5 16:35:58 2020 =====\n",
      "Thread running -  1\n",
      "Thread running -  2\n",
      "Thread running -  3\n",
      "Thread running -  4\n",
      "Thread running -  5\n",
      "===== Thu Mar  5 16:35:58 2020 =====\n",
      "Thread running -  1\n",
      "Thread running -  2\n",
      "Thread running -  3\n",
      "Thread running -  4\n",
      "Thread running -  5\n",
      "===== Thu Mar  5 16:35:59 2020 =====\n",
      "Thread running -  1\n",
      "Thread running -  2\n",
      "Thread running -  3\n",
      "Thread running -  4\n",
      "Thread running -  5\n",
      "===== Thu Mar  5 16:35:59 2020 =====\n",
      "Thread running -  1\n",
      "Thread running -  2\n",
      "Thread running -  3\n",
      "Thread running -  4\n",
      "Thread running -  5\n",
      "===== Thu Mar  5 16:36:00 2020 =====\n",
      "Thread running -  1\n",
      "Thread running -  2\n",
      "Thread running -  3\n",
      "Thread running -  4\n",
      "Thread running -  5\n",
      "===== Thu Mar  5 16:36:00 2020 =====\n",
      "Thread running -  1\n",
      "Thread running -  2\n",
      "Thread running -  3\n",
      "Thread running -  4\n",
      "Thread running -  5\n",
      "===== Thu Mar  5 16:36:00 2020 =====\n",
      "Thread running -  1\n",
      "Thread running -  2\n",
      "Thread running -  3\n",
      "Thread running -  4\n",
      "Thread running -  5\n",
      "===== Thu Mar  5 16:36:00 2020 =====\n",
      "Thread running -  1\n",
      "Thread running -  2\n",
      "Thread running -  3\n",
      "Thread running -  4\n",
      "Thread running -  5\n"
     ]
    }
   ],
   "source": [
    "#출처: https://niceman.tistory.com/144\n",
    "#일정주기반복실행\n",
    "import time\n",
    "import threading\n",
    "\n",
    "def thread_run():\n",
    "    print('=====',time.ctime(),'=====')\n",
    "    for i in range(1,6):\n",
    "        if i == 6:\n",
    "            break\n",
    "        #개발하고자하는 코드\n",
    "        print('Thread running - ', i)\n",
    "        \n",
    "    threading.Timer(2.5, thread_run).start()\n",
    "    \n",
    "thread_run()\n",
    "#threading.Time(2, thread_run).start() : 메인에서 실행하면 1회 실행"
   ]
  },
  {
   "cell_type": "code",
   "execution_count": 100,
   "metadata": {},
   "outputs": [
    {
     "name": "stdout",
     "output_type": "stream",
     "text": [
      "===== Thu Mar  5 16:36:01 2020 =====\n",
      "Thread running -  1\n",
      "Thread running -  2\n",
      "Thread running -  3\n",
      "Thread running -  4\n",
      "Thread running -  5\n",
      "===== Thu Mar  5 16:36:01 2020 =====\n",
      "Thread running -  1\n",
      "Thread running -  2\n",
      "Thread running -  3\n",
      "Thread running -  4\n",
      "Thread running -  5\n",
      "===== Thu Mar  5 16:36:02 2020 =====\n",
      "Thread running -  1\n",
      "Thread running -  2\n",
      "Thread running -  3\n",
      "Thread running -  4\n",
      "Thread running -  5\n",
      "===== Thu Mar  5 16:36:02 2020 =====\n",
      "Thread running -  1\n",
      "Thread running -  2\n",
      "Thread running -  3\n",
      "Thread running -  4\n",
      "Thread running -  5\n",
      "===== Thu Mar  5 16:36:03 2020 =====\n",
      "Thread running -  1\n",
      "Thread running -  2\n",
      "Thread running -  3\n",
      "Thread running -  4\n",
      "Thread running -  5\n",
      "===== Thu Mar  5 16:36:03 2020 =====\n",
      "Thread running -  1\n",
      "Thread running -  2\n",
      "Thread running -  3\n",
      "Thread running -  4\n",
      "Thread running -  5\n",
      "===== Thu Mar  5 16:36:04 2020 =====\n",
      "Thread running -  1\n",
      "Thread running -  2\n",
      "Thread running -  3\n",
      "Thread running -  4\n",
      "Thread running -  5\n",
      "===== Thu Mar  5 16:36:04 2020 =====\n",
      "Thread running -  1\n",
      "Thread running -  2\n",
      "Thread running -  3\n",
      "Thread running -  4\n",
      "Thread running -  5\n"
     ]
    }
   ],
   "source": [
    "# 출처: https://humit.tistory.com/260\n",
    "import threading\n",
    "\n",
    "end = True\n",
    "\n",
    "def execute_func(second=1.0):\n",
    "    global end\n",
    "    if end:\n",
    "        return\n",
    "    # TODO\n",
    "    print(\"helo\")\n",
    "    \n",
    "    threading.Timer(second, execute_func, [second1]).start()\n",
    "\n",
    "execute_func(2.0)"
   ]
  },
  {
   "cell_type": "code",
   "execution_count": null,
   "metadata": {},
   "outputs": [],
   "source": []
  }
 ],
 "metadata": {
  "kernelspec": {
   "display_name": "Python 3",
   "language": "python",
   "name": "python3"
  },
  "language_info": {
   "codemirror_mode": {
    "name": "ipython",
    "version": 3
   },
   "file_extension": ".py",
   "mimetype": "text/x-python",
   "name": "python",
   "nbconvert_exporter": "python",
   "pygments_lexer": "ipython3",
   "version": "3.7.4"
  }
 },
 "nbformat": 4,
 "nbformat_minor": 2
}
