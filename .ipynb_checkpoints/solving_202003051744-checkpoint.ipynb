{
 "cells": [
  {
   "cell_type": "code",
   "execution_count": 10,
   "metadata": {},
   "outputs": [
    {
     "name": "stdout",
     "output_type": "stream",
     "text": [
      "===== Thu Mar  5 19:06:45 2020 =====\n",
      "m\n"
     ]
    },
    {
     "name": "stderr",
     "output_type": "stream",
     "text": [
      "C:\\ProgramData\\Anaconda3\\lib\\site-packages\\ipykernel_launcher.py:58: DeprecationWarning: tostring() is deprecated. Use tobytes() instead.\n"
     ]
    },
    {
     "name": "stdout",
     "output_type": "stream",
     "text": [
      "d\n",
      "o\n",
      "p\n",
      "n\n",
      "e\n",
      "o\n",
      "y\n",
      "s\n",
      "j\n"
     ]
    }
   ],
   "source": [
    "#출처: https://niceman.tistory.com/144\n",
    "#일정주기반복실행\n",
    "import time\n",
    "import threading\n",
    "import random\n",
    "import math, wave, array, random\n",
    "\n",
    "duration = 5 # seconds\n",
    "volume = 100 # percent\n",
    "freqCR = random.randint(500, 3000) # frequency of the carrier wave (Hz) \n",
    "freqAM = random.randint(1, 10) # frequency of the AM wave (Hz) \n",
    "freqFM = random.randint(1, 10) # frequency of the FM wave (Hz) \n",
    "freqFMDev = random.randint(100, 400) # frequency deviation for FM (Hz) \n",
    "phaseCR = random.random() * math.pi * 2\n",
    "phaseAM = random.random() * math.pi * 2\n",
    "phaseFM = random.random() * math.pi * 2\n",
    "# Assumed: ampCR = ampAM = ampFM = 1\n",
    "data = array.array('h') # signed short integer (-32768 to 32767) data\n",
    "dataSize = 2 # 2 bytes because of using signed short integers => bit depth = 16\n",
    "numChan = 1 # of channels (1: mono, 2: stereo)\n",
    "sampleRate = 44100 # of samples per second (standard)\n",
    "numSamples = sampleRate * duration\n",
    "# nSPC: number of Samples Per Cycle\n",
    "nSPCCR = int(sampleRate / freqCR)\n",
    "nSPCAM = int(sampleRate / freqAM)\n",
    "nSPCFM = int(sampleRate / freqFM)\n",
    "\n",
    "def thread_run():\n",
    "    print('=====',time.ctime(),'=====')\n",
    "    for i in range(1,11):\n",
    "        if i == 11:\n",
    "            break\n",
    "        #개발하고자하는 코드\n",
    "        \n",
    "        first_names=('abcdefghij')\n",
    "        last_names=('klmnopqrstuvwxyz')\n",
    "\n",
    "        group=\" \".join(random.choice(first_names)+random.choice(last_names) for _ in range(1))\n",
    "\n",
    "        names = list(group)\n",
    "        # 리스트에서 1개 랜덤 추출\n",
    "        choiceList = random.choice(names)\n",
    "        print(choiceList)\n",
    "        \n",
    "        for i in range(numSamples):\n",
    "            sample = 32767 * float(volume) / 100\n",
    "            tCR = math.pi * 2 * (i % nSPCCR) / nSPCCR + phaseCR\n",
    "            tFM = math.pi * 2 * (i % nSPCFM) / nSPCFM + phaseFM\n",
    "            tAM = math.pi * 2 * (i % nSPCAM) / nSPCAM + phaseAM\n",
    "            sample *= math.sin(tCR + math.sin(tFM) * freqFMDev / freqFM)\n",
    "            sample *= (math.sin(tAM) + 1) / 2\n",
    "            data.append(int(sample))\n",
    "        f = wave.open('choiceList.wav', 'w')\n",
    "        f.setparams((numChan, dataSize, sampleRate, numSamples, \"NONE\", \"Uncompressed\"))\n",
    "        f.writeframes(data.tostring())\n",
    "        f.close()\n",
    "     \n",
    "thread_run()\n"
   ]
  },
  {
   "cell_type": "code",
   "execution_count": null,
   "metadata": {},
   "outputs": [],
   "source": []
  }
 ],
 "metadata": {
  "kernelspec": {
   "display_name": "Python 3",
   "language": "python",
   "name": "python3"
  },
  "language_info": {
   "codemirror_mode": {
    "name": "ipython",
    "version": 3
   },
   "file_extension": ".py",
   "mimetype": "text/x-python",
   "name": "python",
   "nbconvert_exporter": "python",
   "pygments_lexer": "ipython3",
   "version": "3.7.4"
  }
 },
 "nbformat": 4,
 "nbformat_minor": 2
}
