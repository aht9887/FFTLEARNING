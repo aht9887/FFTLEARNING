{
 "cells": [
  {
   "cell_type": "markdown",
   "metadata": {},
   "source": [
    "Question: 1. 엑셀파일에서 문자열을 데이터 변수화 시킨다. \\\n",
    "          2. 어떠한 문제에서 문자열로 나열된 값이 입력된다. \\\n",
    "          3. 문제에 대한 변수를 만들어서 그에 대한 정보를 다룰 수 있게 한다. \\\n",
    "          \n",
    "         1. TO variabalize the string in spread sheets \\\n",
    "         2. In any problem, listed variables were inputted \\\n",
    "         3. Handling whit the information that created variables of given questions"
   ]
  },
  {
   "cell_type": "markdown",
   "metadata": {},
   "source": [
    "# To variabalize\n",
    "# reading an ecel file  using openpyxl module\n",
    "# A original text website : https://www.geeksforgeeks.org/python-reading-excel-file-using-openpyxl-module/"
   ]
  },
  {
   "cell_type": "markdown",
   "metadata": {},
   "source": [
    "# step1"
   ]
  },
  {
   "cell_type": "markdown",
   "metadata": {},
   "source": [
    "run A cmd window : sudo pip3 install openpyxl \\\n",
    "access denied  \\\n",
    "run instead of running pip3 install openpyxl(L) is runned \\\n",
    "\n",
    "Complete"
   ]
  },
  {
   "cell_type": "markdown",
   "metadata": {},
   "source": [
    "set an input files : An exel file name is readingexcel (not blancked and not containning)"
   ]
  }
 ],
 "metadata": {
  "kernelspec": {
   "display_name": "Python 3",
   "language": "python",
   "name": "python3"
  },
  "language_info": {
   "codemirror_mode": {
    "name": "ipython",
    "version": 3
   },
   "file_extension": ".py",
   "mimetype": "text/x-python",
   "name": "python",
   "nbconvert_exporter": "python",
   "pygments_lexer": "ipython3",
   "version": "3.7.4"
  }
 },
 "nbformat": 4,
 "nbformat_minor": 2
}
