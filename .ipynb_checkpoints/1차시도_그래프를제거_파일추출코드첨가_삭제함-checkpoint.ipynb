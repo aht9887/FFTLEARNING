{
 "cells": [
  {
   "cell_type": "code",
   "execution_count": 1,
   "metadata": {},
   "outputs": [
    {
     "name": "stdout",
     "output_type": "stream",
     "text": [
      "fft start\n",
      "fft end\n"
     ]
    }
   ],
   "source": [
    "# Original text ling: https://m.blog.naver.com/PostView.nhn?blogId=gaechuni&logNo=221649637954&proxyReferer=https%3A%2F%2Fwww.google.com%2F\n",
    "# wav 파일을 읽어서 FFT를 수행하는 함수 코드\n",
    "# 512샘플만큼 오버랩하여 1024 FFT를 수행하는 코드이다.\n",
    "# fFFT의 결과를 스펙트럼이라 하고, 이 결과를 시간적으로 나열한 것을 스펙트로그램이라 한다.\n",
    "import scipy.signal as signal\n",
    "import math\n",
    "import librosa\n",
    "import numpy as np\n",
    "import os \n",
    "import os.path\n",
    "import numpy\n",
    "\n",
    "def wav_fft(file_name):\n",
    "    print(\"fft start\")\n",
    "    audio_sample, sampling_rate = librosa.load(file_name, sr = None)\n",
    "    fft_result = librosa.stft(audio_sample, n_fft=10, hop_length=5, win_length = 10, window=signal.hann).T\n",
    "    mag, phase = librosa.magphase(fft_result)\n",
    "    print(\"fft end\")\n",
    "    return mag\n",
    "\n",
    "# dB scale을 신호로 변환시키는 것\n",
    "# 소리 신호를 0~1 구간으로 normalization 시켜주는 것: nolmalization: 정규화: 데이터 범위를 0과 1로 변환하여 \n",
    "                                                     # 데이터 분포를 조정하는 절차\n",
    "\n",
    "    \n",
    "# normalize_funtion\n",
    "min_level_db = -100\n",
    "def _normalize(S):\n",
    "    return np.clip((S-min_level_db)/(-min_level_db), 0, 1)\n",
    "\n",
    "\n",
    "mag = wav_fft(\"test_voice.wav\")\n",
    "mag_db = librosa.amplitude_to_db(mag)\n",
    "mag_n = _normalize(mag_db)\n",
    "\n",
    "\n"
   ]
  },
  {
   "cell_type": "code",
   "execution_count": null,
   "metadata": {},
   "outputs": [],
   "source": []
  }
 ],
 "metadata": {
  "kernelspec": {
   "display_name": "Python 3",
   "language": "python",
   "name": "python3"
  },
  "language_info": {
   "codemirror_mode": {
    "name": "ipython",
    "version": 3
   },
   "file_extension": ".py",
   "mimetype": "text/x-python",
   "name": "python",
   "nbconvert_exporter": "python",
   "pygments_lexer": "ipython3",
   "version": "3.7.4"
  }
 },
 "nbformat": 4,
 "nbformat_minor": 2
}
