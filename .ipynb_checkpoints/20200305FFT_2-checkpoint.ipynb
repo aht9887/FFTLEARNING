{
 "cells": [
  {
   "cell_type": "code",
   "execution_count": 4,
   "metadata": {},
   "outputs": [
    {
     "name": "stdout",
     "output_type": "stream",
     "text": [
      "fft start\n",
      "fft end\n"
     ]
    },
    {
     "data": {
      "image/png": "[encoded data removed]",
      "text/plain": [
       "<Figure size 432x288 with 1 Axes>"
      ]
     },
     "metadata": {
      "needs_background": "light"
     },
     "output_type": "display_data"
    }
   ],
   "source": [
    "# http://code.activestate.com/recipes/578180-random-sound-fx-using-wav-file/\n",
    "# Random Sound FX Using WAV File\n",
    "# http://en.wikipedia.org/wiki/Amplitude_modulation\n",
    "# http://en.wikipedia.org/wiki/Frequency_modulation\n",
    "# FB36 - 20120701\n",
    "import math, wave, array, random\n",
    "\n",
    "def fft_fft():\n",
    "    duration = 5 # seconds\n",
    "    volume = 100 # percent\n",
    "    freqCR = random.randint(500, 3000) # frequency of the carrier wave (Hz)\n",
    "    freqAM = random.randint(1, 10) # frequency of the AM wave (Hz)\n",
    "    freqFM = random.randint(1, 10) # frequency of the FM wave (Hz) \n",
    "    freqFMDev = random.randint(100, 400) # frequency deviation for FM (Hz) \n",
    "    phaseCR = random.random() * math.pi * 2\n",
    "    phaseAM = random.random() * math.pi * 2\n",
    "    phaseFM = random.random() * math.pi * 2\n",
    "    # Assumed: ampCR = ampAM = ampFM = 1\n",
    "    data = array.array('h') # signed short integer (-32768 to 32767) data\n",
    "    dataSize = 2 # 2 bytes because of using signed short integers => bit depth = 16\n",
    "    numChan = 1 # of channels (1: mono, 2: stereo)\n",
    "    sampleRate = 44100 # of samples per second (standard)\n",
    "    numSamples = sampleRate * duration\n",
    "    # nSPC: number of Samples Per Cycle\n",
    "    nSPCCR = int(sampleRate / freqCR)\n",
    "    nSPCAM = int(sampleRate / freqAM)\n",
    "    nSPCFM = int(sampleRate / freqFM)\n",
    "    for i in range(numSamples):\n",
    "        sample = 32767 * float(volume) / 100\n",
    "        tCR = math.pi * 2 * (i % nSPCCR) / nSPCCR + phaseCR\n",
    "        tFM = math.pi * 2 * (i % nSPCFM) / nSPCFM + phaseFM\n",
    "        tAM = math.pi * 2 * (i % nSPCAM) / nSPCAM + phaseAM\n",
    "        sample *= math.sin(tCR + math.sin(tFM) * freqFMDev / freqFM)\n",
    "        sample *= (math.sin(tAM) + 1) / 2\n",
    "        data.append(int(sample))\n",
    "    f = wave.open('RndSoundFX.wav', 'w')\n",
    "    f.setparams((numChan, dataSize, sampleRate, numSamples, \"NONE\", \"Uncompressed\"))\n",
    "    f.writeframes(data.tostring())\n",
    "    f.close()\n",
    "\n",
    "fft_fft()\n",
    "# Original text ling: https://m.blog.naver.com/PostView.nhn?blogId=gaechuni&logNo=221649637954&proxyReferer=https%3A%2F%2Fwww.google.com%2F\n",
    "# wav 파일을 읽어서 FFT를 수행하는 함수 코드\n",
    "# 512샘플만큼 오버랩하여 1024 FFT를 수행하는 코드이다.\n",
    "# FFT의 결과를 스펙트럼이라 하고, 이 결과를 시간적으로 나열한 것을 스펙트로그램이라 한다.\n",
    "import scipy.signal as signal\n",
    "import math\n",
    "import librosa\n",
    "import numpy as np\n",
    "import os \n",
    "import os.path\n",
    "import numpy\n",
    "\n",
    "def wav_fft(file_name):\n",
    "    print(\"fft start\")\n",
    "    audio_sample, sampling_rate = librosa.load(file_name, sr = None)\n",
    "    fft_result = librosa.stft(audio_sample, n_fft=1024, hop_length=512, win_length = 1024, window=signal.hann).T\n",
    "    mag, phase = librosa.magphase(fft_result)\n",
    "    print(\"fft end\")\n",
    "    return mag\n",
    "\n",
    "# dB scale을 신호로 변환시키는 것\n",
    "# 소리 신호를 0~1 구간으로 normalization 시켜주는 것: nolmalization: 정규화: 데이터 범위를 0과 1로 변환하여 \n",
    "                                                     # 데이터 분포를 조정하는 절차\n",
    "\n",
    "    \n",
    "# normalize_funtion\n",
    "min_level_db = -100\n",
    "def _normalize(S):\n",
    "    return np.clip((S-min_level_db)/(-min_level_db), 0, 1)\n",
    "\n",
    "\n",
    "mag = wav_fft(\"RndSoundFX.wav\")\n",
    "mag_db = librosa.amplitude_to_db(mag)\n",
    "mag_n = _normalize(mag_db)\n",
    "S = numpy.log(1 + mag * 1000) # 로그형태로 변환합니다. // 삭제해도 무방\n",
    "sampling_rate = 16000 # 샘플링 레이트 정의 원본에서 삐져있어서 추가했더니 실행됨\n",
    "                      # 100이나 16000이나 차이가 없음\n",
    "    \n",
    "import matplotlib.pyplot as plt\n",
    "import librosa.display\n",
    "\n",
    "# 아래 'time' 이후로 sr=sampling_rate를 이어서 써야 하는데 이 항목이 정의되지 않았다고 한다.\n",
    "# 삭제 후 실행하면 된다.\n",
    "librosa.display.specshow(mag_n.T, y_axis='linear', x_axis='time', sr=sampling_rate)\n",
    "plt.title('FFT result')\n",
    "# plt.show는 삭제하지 않아도 pdf 파일로 출력됨\n",
    "plt.show\n",
    "\n",
    "# 아래 그림과 D드라이브\\IVH연구소_FFT_학습자료\\jupyter_20200303(화)_FFT_USING_AUDIO_SAMPLE_FILE_관련자료의\n",
    "# 원본 사진을 비교해 보자 원본 사진에는 큰 형태가 3개가 있지만 아래에는 4개가 보인다.\n",
    "# 원본에서는 진폭을 나타낸 것이고 아래는 주파수를 나타낸 것이다. 소리의 크기에는 진폭이 관여하므로\n",
    "# 아래그림에서처럼 주파수가 4개가 나타나는 것이 맞다\n",
    "# 원본을 녹음할 때 초반 도입 부분은 기타 잡음이 녹음된 것 같은데 소리는 작더라고 최대 주파수가\n",
    "# 6000Hz는 될 것으로 보인다. 끝.\n",
    "\n",
    "plt.savefig(\"C:/Users/RD_PC/Documents/20200305FFT/20200305.pdf\",bbox_inches=\"tight\",pad_inches=0.1, transparent=True)\n",
    "\n",
    "# 정상작동 확인"
   ]
  },
  {
   "cell_type": "code",
   "execution_count": null,
   "metadata": {},
   "outputs": [],
   "source": []
  },
  {
   "cell_type": "code",
   "execution_count": null,
   "metadata": {},
   "outputs": [],
   "source": []
  }
 ],
 "metadata": {
  "kernelspec": {
   "display_name": "Python 3",
   "language": "python",
   "name": "python3"
  },
  "language_info": {
   "codemirror_mode": {
    "name": "ipython",
    "version": 3
   },
   "file_extension": ".py",
   "mimetype": "text/x-python",
   "name": "python",
   "nbconvert_exporter": "python",
   "pygments_lexer": "ipython3",
   "version": "3.7.4"
  }
 },
 "nbformat": 4,
 "nbformat_minor": 2
}
