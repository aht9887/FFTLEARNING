{
 "cells": [
  {
   "cell_type": "code",
   "execution_count": 3,
   "metadata": {},
   "outputs": [
    {
     "name": "stdout",
     "output_type": "stream",
     "text": [
      "q\n"
     ]
    }
   ],
   "source": [
    "import random\n",
    "\n",
    "first_names=('abcd','efg','huj')\n",
    "last_names=('klmn','opqr','stuvwxyz')\n",
    "\n",
    "group=\" \".join(random.choice(first_names)+random.choice(last_names) for _ in range(1))\n",
    "\n",
    "names = list(group)\n",
    "\n",
    "\n",
    "# 리스트에서 1개 랜덤 추출\n",
    "choiceList = random.choice(names)\n",
    "    \n",
    "print(choiceList)"
   ]
  },
  {
   "cell_type": "code",
   "execution_count": 3,
   "metadata": {
    "scrolled": true
   },
   "outputs": [
    {
     "name": "stdout",
     "output_type": "stream",
     "text": [
      "===== Mon Mar  9 10:25:00 2020 =====\n",
      "e\n",
      "h\n",
      "o\n",
      "a\n",
      "e\n",
      "h\n",
      "a\n",
      "i\n",
      "e\n",
      "i\n"
     ]
    }
   ],
   "source": [
    "#출처: https://niceman.tistory.com/144\n",
    "#일정주기반복실행\n",
    "import time\n",
    "import threading\n",
    "import random\n",
    "\n",
    "\n",
    "def thread_run():\n",
    "    print('=====',time.ctime(),'=====')\n",
    "    for i in range(1,11):\n",
    "        if i == 11:\n",
    "            break\n",
    "        #개발하고자하는 코드\n",
    "        \n",
    "        first_names=('abcdefghij')\n",
    "        last_names=('klmnopqrstuvwxyz')\n",
    "\n",
    "        group=\" \".join(random.choice(first_names)+random.choice(last_names) for _ in range(1))\n",
    "\n",
    "        names = list(group)\n",
    "\n",
    "\n",
    "        # 리스트에서 1개 랜덤 추출\n",
    "        choiceList = random.choice(names)\n",
    "    \n",
    "        print(choiceList)\n",
    "        \n",
    "thread_run()\n",
    "#threading.Time(2, thread_run).start() : 메인에서 실행하면 1회 실행"
   ]
  },
  {
   "cell_type": "code",
   "execution_count": 42,
   "metadata": {},
   "outputs": [],
   "source": [
    "# Random Sound FX Using WAV File\n",
    "# http://en.wikipedia.org/wiki/Amplitude_modulation\n",
    "# http://en.wikipedia.org/wiki/Frequency_modulation\n",
    "# FB36 - 20120701\n",
    "import math, wave, array, random\n",
    "duration = 5 # seconds\n",
    "volume = 100 # percent\n",
    "freqCR = random.randint(500, 3000) # frequency of the carrier wave (Hz) \n",
    "freqAM = random.randint(1, 10) # frequency of the AM wave (Hz) \n",
    "freqFM = random.randint(1, 10) # frequency of the FM wave (Hz) \n",
    "freqFMDev = random.randint(100, 400) # frequency deviation for FM (Hz) \n",
    "phaseCR = random.random() * math.pi * 2\n",
    "phaseAM = random.random() * math.pi * 2\n",
    "phaseFM = random.random() * math.pi * 2\n",
    "# Assumed: ampCR = ampAM = ampFM = 1\n",
    "data = array.array('h') # signed short integer (-32768 to 32767) data\n",
    "dataSize = 2 # 2 bytes because of using signed short integers => bit depth = 16\n",
    "numChan = 1 # of channels (1: mono, 2: stereo)\n",
    "sampleRate = 44100 # of samples per second (standard)\n",
    "numSamples = sampleRate * duration\n",
    "# nSPC: number of Samples Per Cycle\n",
    "nSPCCR = int(sampleRate / freqCR)\n",
    "nSPCAM = int(sampleRate / freqAM)\n",
    "nSPCFM = int(sampleRate / freqFM)\n",
    "for i in range(numSamples):\n",
    "    sample = 32767 * float(volume) / 100\n",
    "    tCR = math.pi * 2 * (i % nSPCCR) / nSPCCR + phaseCR\n",
    "    tFM = math.pi * 2 * (i % nSPCFM) / nSPCFM + phaseFM\n",
    "    tAM = math.pi * 2 * (i % nSPCAM) / nSPCAM + phaseAM\n",
    "    sample *= math.sin(tCR + math.sin(tFM) * freqFMDev / freqFM)\n",
    "    sample *= (math.sin(tAM) + 1) / 2\n",
    "    data.append(int(sample))\n",
    "f = wave.open('RndSoundFX.wav', 'w')\n",
    "f.setparams((numChan, dataSize, sampleRate, numSamples, \"NONE\", \"Uncompressed\"))\n",
    "f.writeframes(data.tostring())\n",
    "f.close()"
   ]
  },
  {
   "cell_type": "markdown",
   "metadata": {},
   "source": [
    "파일을 이미 불러와놓고 덮어쓰기를 해보자"
   ]
  },
  {
   "cell_type": "code",
   "execution_count": 3,
   "metadata": {},
   "outputs": [],
   "source": [
    "# wav 파일 생성코드\n",
    "list1 = ['a', 'a', 'a']\n",
    "\n",
    "for i in range(len(list1)):\n",
    "    open('file%s.wav' % i, 'w').write(list1[i])"
   ]
  },
  {
   "cell_type": "code",
   "execution_count": 4,
   "metadata": {},
   "outputs": [],
   "source": [
    "\n",
    "# wav 파일 생성코드\n",
    "list1 = ['a', 'b', 'c']\n",
    "\n",
    "for i in range(len(list1)):\n",
    "    open('file%s.wav' % i, 'w').write(list1[i])\n"
   ]
  },
  {
   "cell_type": "markdown",
   "metadata": {},
   "source": [
    "ln [3] 과 ln [4]의 결과는\n",
    "--- 결과 ---\n",
    "file0.wav\n",
    "file1.wav\n",
    "file2.wav\n",
    "로 같다."
   ]
  },
  {
   "cell_type": "code",
   "execution_count": 39,
   "metadata": {},
   "outputs": [
    {
     "ename": "AttributeError",
     "evalue": "'int' object has no attribute 'setparams'",
     "output_type": "error",
     "traceback": [
      "\u001b[1;31m---------------------------------------------------------------------------\u001b[0m",
      "\u001b[1;31mAttributeError\u001b[0m                            Traceback (most recent call last)",
      "\u001b[1;32m<ipython-input-39-6cba80bd3cb4>\u001b[0m in \u001b[0;36m<module>\u001b[1;34m\u001b[0m\n\u001b[0;32m     42\u001b[0m \u001b[1;33m\u001b[0m\u001b[0m\n\u001b[0;32m     43\u001b[0m     \u001b[0mf\u001b[0m \u001b[1;33m=\u001b[0m \u001b[0mopen\u001b[0m\u001b[1;33m(\u001b[0m\u001b[1;34m'file%s.wav'\u001b[0m \u001b[1;33m%\u001b[0m \u001b[0ma\u001b[0m\u001b[1;33m,\u001b[0m \u001b[1;34m'w'\u001b[0m\u001b[1;33m)\u001b[0m\u001b[1;33m.\u001b[0m\u001b[0mwrite\u001b[0m\u001b[1;33m(\u001b[0m\u001b[0mlist1\u001b[0m\u001b[1;33m[\u001b[0m\u001b[0ma\u001b[0m\u001b[1;33m]\u001b[0m\u001b[1;33m)\u001b[0m\u001b[1;33m\u001b[0m\u001b[1;33m\u001b[0m\u001b[0m\n\u001b[1;32m---> 44\u001b[1;33m     \u001b[0mf\u001b[0m\u001b[1;33m.\u001b[0m\u001b[0msetparams\u001b[0m\u001b[1;33m(\u001b[0m\u001b[1;33m(\u001b[0m\u001b[0mnumChan\u001b[0m\u001b[1;33m,\u001b[0m \u001b[0mdataSize\u001b[0m\u001b[1;33m,\u001b[0m \u001b[0msampleRate\u001b[0m\u001b[1;33m,\u001b[0m \u001b[0mnumSamples\u001b[0m\u001b[1;33m,\u001b[0m \u001b[1;34m\"NONE\"\u001b[0m\u001b[1;33m,\u001b[0m \u001b[1;34m\"Uncompressed\"\u001b[0m\u001b[1;33m)\u001b[0m\u001b[1;33m)\u001b[0m\u001b[1;33m\u001b[0m\u001b[1;33m\u001b[0m\u001b[0m\n\u001b[0m\u001b[0;32m     45\u001b[0m     \u001b[0mf\u001b[0m\u001b[1;33m.\u001b[0m\u001b[0mwriteframes\u001b[0m\u001b[1;33m(\u001b[0m\u001b[0mdata\u001b[0m\u001b[1;33m.\u001b[0m\u001b[0mtostring\u001b[0m\u001b[1;33m(\u001b[0m\u001b[1;33m)\u001b[0m\u001b[1;33m)\u001b[0m\u001b[1;33m\u001b[0m\u001b[1;33m\u001b[0m\u001b[0m\n\u001b[0;32m     46\u001b[0m     \u001b[0mf\u001b[0m\u001b[1;33m.\u001b[0m\u001b[0mclose\u001b[0m\u001b[1;33m(\u001b[0m\u001b[1;33m)\u001b[0m\u001b[1;33m\u001b[0m\u001b[1;33m\u001b[0m\u001b[0m\n",
      "\u001b[1;31mAttributeError\u001b[0m: 'int' object has no attribute 'setparams'"
     ]
    }
   ],
   "source": []
  },
  {
   "cell_type": "code",
   "execution_count": 38,
   "metadata": {},
   "outputs": [
    {
     "ename": "SyntaxError",
     "evalue": "invalid syntax (<ipython-input-38-6ca87c640de8>, line 11)",
     "output_type": "error",
     "traceback": [
      "\u001b[1;36m  File \u001b[1;32m\"<ipython-input-38-6ca87c640de8>\"\u001b[1;36m, line \u001b[1;32m11\u001b[0m\n\u001b[1;33m    def set(numChan, dataSize, sampleRate, numSamples)\u001b[0m\n\u001b[1;37m                                                      ^\u001b[0m\n\u001b[1;31mSyntaxError\u001b[0m\u001b[1;31m:\u001b[0m invalid syntax\n"
     ]
    }
   ],
   "source": [
    "# 'int' object has no attribute 'setparams'를 스택플로우에서 검색해 본후 찾아본 결과이다. 클래스를 정의해서 해보고자 했는데 안됨.\n",
    "\n",
    "class animal:  \n",
    "  number_of_legs = 0\n",
    "\n",
    "  def __init__(self, nlegs):\n",
    "    self.number_of_legs = nlegs\n",
    "\n",
    "a = animal(1)\n",
    "\n",
    "# 파생된 방법\n",
    "\n",
    "def set(numChan, dataSize, sampleRate, numSamples)\n",
    "        for input in 1\n",
    "        for input in 2\n",
    "        for input in 44100\n",
    "        for input in sampleRate * duration\n",
    "        \n",
    "        # 유효하지 않은 문법"
   ]
  },
  {
   "cell_type": "code",
   "execution_count": 44,
   "metadata": {},
   "outputs": [],
   "source": [
    "f = wave.open('RndFX.wav', 'w') # 이전 결과값이 나오는 것 같음\n",
    "f.setparams((numChan, dataSize, sampleRate, numSamples, \"NONE\", \"Uncompressed\"))\n",
    "f.writeframes(data.tostring())\n",
    "f.close()"
   ]
  },
  {
   "cell_type": "code",
   "execution_count": 47,
   "metadata": {},
   "outputs": [],
   "source": [
    "a = 2\n"
   ]
  },
  {
   "cell_type": "code",
   "execution_count": null,
   "metadata": {},
   "outputs": [],
   "source": []
  }
 ],
 "metadata": {
  "kernelspec": {
   "display_name": "Python 3",
   "language": "python",
   "name": "python3"
  },
  "language_info": {
   "codemirror_mode": {
    "name": "ipython",
    "version": 3
   },
   "file_extension": ".py",
   "mimetype": "text/x-python",
   "name": "python",
   "nbconvert_exporter": "python",
   "pygments_lexer": "ipython3",
   "version": "3.7.4"
  }
 },
 "nbformat": 4,
 "nbformat_minor": 2
}
