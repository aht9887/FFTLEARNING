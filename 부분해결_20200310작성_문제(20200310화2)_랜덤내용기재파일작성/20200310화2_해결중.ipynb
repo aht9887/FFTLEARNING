{
 "cells": [
  {
   "cell_type": "markdown",
   "metadata": {},
   "source": [
    "# 랜덤으로 내용이 기재되는 파일 여러 개 만들기 : 20200310화2"
   ]
  },
  {
   "cell_type": "markdown",
   "metadata": {},
   "source": [
    "장문의 의미없는 텍스트 만들기"
   ]
  },
  {
   "cell_type": "code",
   "execution_count": 2,
   "metadata": {
    "scrolled": true
   },
   "outputs": [
    {
     "ename": "SyntaxError",
     "evalue": "invalid syntax (<ipython-input-2-068ddb8393e5>, line 2)",
     "output_type": "error",
     "traceback": [
      "\u001b[1;36m  File \u001b[1;32m\"<ipython-input-2-068ddb8393e5>\"\u001b[1;36m, line \u001b[1;32m2\u001b[0m\n\u001b[1;33m    Out[62]:\u001b[0m\n\u001b[1;37m             ^\u001b[0m\n\u001b[1;31mSyntaxError\u001b[0m\u001b[1;31m:\u001b[0m invalid syntax\n"
     ]
    }
   ],
   "source": [
    "In [62]: letters = np.array(list(chr(ord('a') + i) for i in range(26))); letters\n",
    "Out[62]: \n",
    "array(['a', 'b', 'c', 'd', 'e', 'f', 'g', 'h', 'i', 'j', 'k', 'l', 'm',\n",
    "       'n', 'o', 'p', 'q', 'r', 's', 't', 'u', 'v', 'w', 'x', 'y', 'z'],\n",
    "      dtype='<U1')\n",
    "\n",
    "np.random.choice(letters, n)\n",
    "\n",
    "In [64]: n = 102 ** 2\n",
    "\n",
    "In [71]: %timeit np.random.choice(letters, n)\n",
    "10 loops, best of 3: 15.1 ms per loop"
   ]
  },
  {
   "cell_type": "markdown",
   "metadata": {},
   "source": [
    "실행 안 됨. 아래 코드를 실행해 보자."
   ]
  },
  {
   "cell_type": "code",
   "execution_count": 4,
   "metadata": {
    "scrolled": false
   },
   "outputs": [
    {
     "ename": "SyntaxError",
     "evalue": "invalid syntax (<ipython-input-4-b6d955c34a47>, line 5)",
     "output_type": "error",
     "traceback": [
      "\u001b[1;36m  File \u001b[1;32m\"<ipython-input-4-b6d955c34a47>\"\u001b[1;36m, line \u001b[1;32m5\u001b[0m\n\u001b[1;33m    Out[62]:\u001b[0m\n\u001b[1;37m             ^\u001b[0m\n\u001b[1;31mSyntaxError\u001b[0m\u001b[1;31m:\u001b[0m invalid syntax\n"
     ]
    }
   ],
   "source": [
    "import random\n",
    "import string\n",
    "\n",
    "n = 1024 ** 2  # 1 Mb of text\n",
    "chars = ''.join([random.choice(string.letters) for i in range(n)])\n",
    "\n",
    "with open('textfile.txt', 'w+') as f:\n",
    "    f.write(chars)"
   ]
  },
  {
   "cell_type": "code",
   "execution_count": 2,
   "metadata": {},
   "outputs": [],
   "source": [
    "\n",
    "\"\"\"\n",
    "랜덤텍스트 파일 생성 원본\n",
    "출처: 아래 markdown 참조해라\n",
    "\"\"\"\n",
    "\n",
    "import random\n",
    "import string\n",
    "\n",
    "n = 1024 ** 2  # 1 Mb of text\n",
    "chars = ''.join([random.choice(string.ascii_letters) for i in range(n)])\n",
    "\n",
    "with open('textfile.txt', 'w+') as f:\n",
    "    f.write(chars)"
   ]
  },
  {
   "cell_type": "markdown",
   "metadata": {},
   "source": [
    "module 'string' has no attribute 'letters'\n",
    "오류 메시지가 팝업되면 5번째 줄의 string.letters를 string.ascii_letters로 바꿔주어야 한다. 파이썬 버전 차이 때문에 생기는 일임\n",
    "\n",
    "출처: https://github.com/joke2k/django-faker/issues/24"
   ]
  },
  {
   "cell_type": "markdown",
   "metadata": {},
   "source": [
    "참고자료로 임의의 글자만 출력해주는 코드가 있다."
   ]
  },
  {
   "cell_type": "code",
   "execution_count": 11,
   "metadata": {},
   "outputs": [
    {
     "name": "stdout",
     "output_type": "stream",
     "text": [
      "14695472ogugrvyhrhbmexz\n"
     ]
    }
   ],
   "source": [
    "#!/usr/bin/python\n",
    "\n",
    "import random\n",
    "import string\n",
    "\n",
    "digits = \"\".join( [random.choice(string.digits) for i in range(8)] )\n",
    "chars = \"\".join( [random.choice(string.ascii_letters[:26]) for i in range(15)] )\n",
    "print(digits + chars)"
   ]
  },
  {
   "cell_type": "markdown",
   "metadata": {},
   "source": [
    "# 여러 파일 생성 코드를 작성해보자"
   ]
  },
  {
   "cell_type": "code",
   "execution_count": 1,
   "metadata": {},
   "outputs": [],
   "source": [
    "def DataFinder(path, extension):\n",
    "    import os\n",
    "    count = 0\n",
    "    extensions = ['.txt','.csv','.xls','xlsm','xlsx']\n",
    "    allfiles = []\n",
    "\n",
    "    if not extension in extensions:\n",
    "        print('Can\\'t read data from this file type.\\n','Allowed file types are\\n',str(extensions))\n",
    "    else:\n",
    "        #loop through the files\n",
    "        for root, dirs, files in os.walk(path):\n",
    "            for file in files:\n",
    "                #check if the file ends with the extension\n",
    "                if file.endswith(extension):\n",
    "                    count+=1\n",
    "                    print(str(count)+': '+file)\n",
    "                    allfiles.append(file)\n",
    "\n",
    "        if count==0:\n",
    "            print('There are no files with',extension,'extension in this folder.')\n",
    "    return allfiles"
   ]
  },
  {
   "cell_type": "markdown",
   "metadata": {},
   "source": [
    "위 코드에서 실행했더니\n",
    "\"invalid syntax\" 가 팝업된다. 이전에 실행했던 코드에서 올바른 함수\n",
    "호출법을 불러와 적용 후 실행해본다.\n",
    "아래함수 실행법을 참고함"
   ]
  },
  {
   "cell_type": "code",
   "execution_count": null,
   "metadata": {},
   "outputs": [],
   "source": [
    "\n",
    "# 사용\n",
    "resize_png2jpg(\"20200.png\", 1600)\n",
    "# 파일 경로를 문서에서 아나콘다3 작동환경으로 변경함"
   ]
  },
  {
   "cell_type": "code",
   "execution_count": 27,
   "metadata": {},
   "outputs": [
    {
     "data": {
      "text/plain": [
       "['df_1textfile.txt']"
      ]
     },
     "execution_count": 27,
     "metadata": {},
     "output_type": "execute_result"
    }
   ],
   "source": [
    "# 출처: https://stackoverflow.com/questions/45523859/python-3-6-how-to-pass-file-names-into-unique-variables\n",
    "# Python 3.6 - How to pass file names into unique variables\n",
    "def DataFinder(path, extension):\n",
    "    import os\n",
    "    count = 0\n",
    "    extensions = ['.txt','.csv','.xls','xlsm','xlsx']\n",
    "    allfiles = []\n",
    "\n",
    "      \n",
    "    if not extension in extensions:\n",
    "        print('Can\\'t read data from this file type.\\n','Allowed file types are\\n',str(extensions))\n",
    "    else:\n",
    "        #loop through the files\n",
    "        for root, dirs, files in os.walk(path):\n",
    "            for file in files:\n",
    "                #check if the file ends with the extension\n",
    "                if file.endswith(extension):\n",
    "                    count+=1\n",
    "                    newfile = ('df_' + str(count) + file)\n",
    "                    allfiles.append(newfile)\n",
    "\n",
    "        if count==0:\n",
    "             print('There are no files with',extension,'extension in this folder.')\n",
    "    return allfiles\n",
    "## 오류 수정 완료\n",
    "DataFinder(r'C:\\Users\\RD_PC\\FFT\\FFTLEARNING\\해결중_20200310작성_문제(20200310화2)', '.txt')\n",
    "\n",
    "### 해결완료\n",
    "\n"
   ]
  },
  {
   "cell_type": "code",
   "execution_count": null,
   "metadata": {},
   "outputs": [],
   "source": []
  }
 ],
 "metadata": {
  "kernelspec": {
   "display_name": "Python 3",
   "language": "python",
   "name": "python3"
  },
  "language_info": {
   "codemirror_mode": {
    "name": "ipython",
    "version": 3
   },
   "file_extension": ".py",
   "mimetype": "text/x-python",
   "name": "python",
   "nbconvert_exporter": "python",
   "pygments_lexer": "ipython3",
   "version": "3.7.4"
  }
 },
 "nbformat": 4,
 "nbformat_minor": 2
}
